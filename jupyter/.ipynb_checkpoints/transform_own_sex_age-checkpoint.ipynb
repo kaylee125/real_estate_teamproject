{
 "cells": [
  {
   "cell_type": "code",
   "execution_count": 266,
   "id": "02bb9f0a",
   "metadata": {},
   "outputs": [],
   "source": [
    "import json\n",
    "import datetime as dt\n",
    "import pandas as pd\n",
    "from pyspark.sql.functions import col, monotonically_increasing_id, row_number\n",
    "from pyspark.sql.window import Window\n",
    "from pyspark.sql.types import *"
   ]
  },
  {
   "cell_type": "code",
   "execution_count": 270,
   "id": "31bb6b6e",
   "metadata": {},
   "outputs": [],
   "source": [
    "JDBC = {\n",
    "    'url':'jdbc:oracle:thin:@realestate_high?TNS_ADMIN=/home/big/study/db/Wallet_REALESTATE'\n",
    "    ,'props':{\n",
    "        'user':'dw_realestate',\n",
    "        'password':'123qwe!@#QWE'\n",
    "    }   \n",
    "}"
   ]
  },
  {
   "cell_type": "code",
   "execution_count": 219,
   "id": "fbc70b7b",
   "metadata": {},
   "outputs": [],
   "source": [
    "from enum import Enum\n",
    "\n",
    "# 데이터웨어하우스 ENUM\n",
    "class DataWarehouse(Enum):\n",
    "    URL='jdbc:oracle:thin:@realestate_high?TNS_ADMIN=/home/big/study/db/Wallet_REALESTATE'\n",
    "    PROPS={\n",
    "        'user':'dw_realestate',\n",
    "        'password':'123qwe!@#QWE'\n",
    "    }"
   ]
  },
  {
   "cell_type": "code",
   "execution_count": 220,
   "id": "779493fe",
   "metadata": {},
   "outputs": [],
   "source": [
    "def cal_std_day(befor_day):   \n",
    "    x = dt.datetime.now() - dt.timedelta(befor_day)\n",
    "    year = x.year\n",
    "    month = x.month if x.month >= 10 else '0'+ str(x.month)\n",
    "    day = x.day if x.day >= 10 else '0'+ str(x.day)  \n",
    "    return str(year) +str(month) +str(day)"
   ]
  },
  {
   "cell_type": "code",
   "execution_count": 221,
   "id": "a9dcddd1",
   "metadata": {},
   "outputs": [],
   "source": [
    "# 데이터웨어하우스, 데이터마트에 저장하기 위한 함수\n",
    "def save_data(config, dataframe, table_name):\n",
    "    dataframe.write.jdbc(url=config.URL.value,\n",
    "                        table=table_name,\n",
    "                        mode='append',\n",
    "                        properties=config.PROPS.value)\n",
    "\n",
    "# 데이터웨어하우스, 데이터마트에 덮어쓰기 위한 함수\n",
    "def overwrite_data(config, dataframe, table_name):\n",
    "    dataframe.write.jdbc(url=config.URL.value,\n",
    "                        table=table_name,\n",
    "                        mode='overwrite',\n",
    "                        properties=config.PROPS.value)\n",
    "\n",
    "# 데이터웨어하우스, 데이터마트에서 데이터 가져오기 위한 함수\n",
    "def find_data(config, table_name):\n",
    "    return spark.read.jdbc(url=config.URL.value,\n",
    "                                        table=table_name,\n",
    "                                        properties=config.PROPS.value)"
   ]
  },
  {
   "cell_type": "code",
   "execution_count": 222,
   "id": "9ea55772",
   "metadata": {},
   "outputs": [
    {
     "name": "stderr",
     "output_type": "stream",
     "text": [
      "\r",
      "[Stage 244:>                                                        (0 + 1) / 1]\r"
     ]
    },
    {
     "name": "stdout",
     "output_type": "stream",
     "text": [
      "+--------+---------+------------+----------+--------+\n",
      "|LOC_CODE|SIDO_CODE|SIGUNGU_CODE|      SIDO| SIGUNGU|\n",
      "+--------+---------+------------+----------+--------+\n",
      "|   27170|       27|         170|대구광역시|    서구|\n",
      "|   27200|       27|         200|대구광역시|    남구|\n",
      "|   30200|       30|         200|대전광역시|  유성구|\n",
      "|   27140|       27|         140|대구광역시|    동구|\n",
      "|   26000|       26|         000|부산광역시|    null|\n",
      "|   26110|       26|         110|부산광역시|    중구|\n",
      "|   26140|       26|         140|부산광역시|    서구|\n",
      "|   26170|       26|         170|부산광역시|    동구|\n",
      "|   26200|       26|         200|부산광역시|  영도구|\n",
      "|   26230|       26|         230|부산광역시|부산진구|\n",
      "|   26260|       26|         260|부산광역시|  동래구|\n",
      "|   26290|       26|         290|부산광역시|    남구|\n",
      "|   26320|       26|         320|부산광역시|    북구|\n",
      "|   26350|       26|         350|부산광역시|해운대구|\n",
      "|   26380|       26|         380|부산광역시|  사하구|\n",
      "|   26410|       26|         410|부산광역시|  금정구|\n",
      "|   26440|       26|         440|부산광역시|  강서구|\n",
      "|   26470|       26|         470|부산광역시|  연제구|\n",
      "|   26500|       26|         500|부산광역시|  수영구|\n",
      "|   26530|       26|         530|부산광역시|  사상구|\n",
      "+--------+---------+------------+----------+--------+\n",
      "only showing top 20 rows\n",
      "\n"
     ]
    },
    {
     "name": "stderr",
     "output_type": "stream",
     "text": [
      "\r",
      "                                                                                \r"
     ]
    }
   ],
   "source": [
    "df_loc = find_data(DataWarehouse, 'LOC')\n",
    "df_loc.show()"
   ]
  },
  {
   "cell_type": "code",
   "execution_count": 223,
   "id": "1019bc37",
   "metadata": {},
   "outputs": [
    {
     "name": "stderr",
     "output_type": "stream",
     "text": [
      "                                                                                \r"
     ]
    },
    {
     "name": "stdout",
     "output_type": "stream",
     "text": [
      "+--------------+--------+\n",
      "|          SIDO|LOC_CODE|\n",
      "+--------------+--------+\n",
      "|    부산광역시|   26000|\n",
      "|    대구광역시|   27000|\n",
      "|    인천광역시|   28000|\n",
      "|    광주광역시|   29000|\n",
      "|    대전광역시|   30000|\n",
      "|    울산광역시|   31000|\n",
      "|세종특별자치시|   36110|\n",
      "|        경기도|   41000|\n",
      "|        강원도|   42000|\n",
      "|      충청북도|   43000|\n",
      "|      충청남도|   44000|\n",
      "|      전라북도|   45000|\n",
      "|      전라남도|   46000|\n",
      "|      경상북도|   47000|\n",
      "|      경상남도|   48000|\n",
      "|    서울특별시|   11000|\n",
      "|제주특별자치도|   50000|\n",
      "+--------------+--------+\n",
      "\n"
     ]
    }
   ],
   "source": [
    "loc_code = df_loc.select(['SIDO','LOC_CODE']).filter(df_loc.SIGUNGU.isNull()).collect()\n",
    "df_loc_code = spark.createDataFrame(loc_code)\n",
    "df_loc_code.show()"
   ]
  },
  {
   "cell_type": "code",
   "execution_count": 225,
   "id": "f2ab37be",
   "metadata": {},
   "outputs": [
    {
     "name": "stderr",
     "output_type": "stream",
     "text": [
      "[Stage 249:>                                                        (0 + 1) / 1]\r"
     ]
    },
    {
     "name": "stdout",
     "output_type": "stream",
     "text": [
      "+---------------------+\n",
      "|               result|\n",
      "+---------------------+\n",
      "|{{APIINFO-0001, 정...|\n",
      "+---------------------+\n",
      "\n"
     ]
    },
    {
     "name": "stderr",
     "output_type": "stream",
     "text": [
      "\r",
      "                                                                                \r"
     ]
    }
   ],
   "source": [
    "file_name = '/realestate_data/gender_age/gender_age_data_'+cal_std_day(10)+'.json'\n",
    "tmp = spark.read.json(file_name, encoding='UTF-8')\n",
    "tmp.show()"
   ]
  },
  {
   "cell_type": "code",
   "execution_count": 226,
   "id": "9a604545",
   "metadata": {
    "scrolled": true
   },
   "outputs": [
    {
     "name": "stdout",
     "output_type": "stream",
     "text": [
      "root\n",
      " |-- result: struct (nullable = true)\n",
      " |    |-- head: struct (nullable = true)\n",
      " |    |    |-- returnCode: string (nullable = true)\n",
      " |    |    |-- returnMessage: string (nullable = true)\n",
      " |    |    |-- totalCount: string (nullable = true)\n",
      " |    |-- items: struct (nullable = true)\n",
      " |    |    |-- item: array (nullable = true)\n",
      " |    |    |    |-- element: struct (containsNull = true)\n",
      " |    |    |    |    |-- adminRegn1Name: string (nullable = true)\n",
      " |    |    |    |    |-- adminRegn2Name: string (nullable = true)\n",
      " |    |    |    |    |-- bdata_age: string (nullable = true)\n",
      " |    |    |    |    |-- resDate: string (nullable = true)\n",
      " |    |    |    |    |-- sex: string (nullable = true)\n",
      " |    |    |    |    |-- tot: string (nullable = true)\n",
      "\n"
     ]
    }
   ],
   "source": [
    "tmp.printSchema()"
   ]
  },
  {
   "cell_type": "code",
   "execution_count": 231,
   "id": "6e2f3f1a",
   "metadata": {},
   "outputs": [
    {
     "name": "stderr",
     "output_type": "stream",
     "text": [
      "                                                                                \r"
     ]
    },
    {
     "name": "stdout",
     "output_type": "stream",
     "text": [
      "+----------------------+--------------------------+\n",
      "|                  head|                     items|\n",
      "+----------------------+--------------------------+\n",
      "|{APIINFO-0001, 정상...|{[{서울특별시, , 19세~2...|\n",
      "+----------------------+--------------------------+\n",
      "\n"
     ]
    },
    {
     "name": "stderr",
     "output_type": "stream",
     "text": [
      "\r",
      "[Stage 266:>                                                        (0 + 1) / 1]\r",
      "\r",
      "                                                                                \r"
     ]
    }
   ],
   "source": [
    "tmp2 = tmp.select('result').first()\n",
    "df = spark.createDataFrame(tmp2)\n",
    "df.show()"
   ]
  },
  {
   "cell_type": "code",
   "execution_count": 256,
   "id": "6019894e",
   "metadata": {
    "scrolled": true
   },
   "outputs": [
    {
     "name": "stdout",
     "output_type": "stream",
     "text": [
      "+--------------+--------------+----------------+----------+----+---+\n",
      "|adminRegn1Name|adminRegn2Name|       bdata_age|   resDate| sex|tot|\n",
      "+--------------+--------------+----------------+----------+----+---+\n",
      "|    서울특별시|              |       19세~29세|2022-09-23|여자| 20|\n",
      "|    서울특별시|              |       30세~39세|2022-09-23|여자| 56|\n",
      "|    서울특별시|              |       40세~49세|2022-09-23|여자| 65|\n",
      "|    서울특별시|              |       50세~59세|2022-09-23|여자| 50|\n",
      "|    서울특별시|              |       60세~69세|2022-09-23|여자| 27|\n",
      "|    서울특별시|              |       70세 이상|2022-09-23|여자| 15|\n",
      "|    서울특별시|              |0~18세(미성년자)|2022-09-23|남자|  1|\n",
      "|    서울특별시|              |       19세~29세|2022-09-23|남자| 17|\n",
      "|    서울특별시|              |       30세~39세|2022-09-23|남자| 66|\n",
      "|    서울특별시|              |       40세~49세|2022-09-23|남자| 62|\n",
      "|    서울특별시|              |       50세~59세|2022-09-23|남자| 44|\n",
      "|    서울특별시|              |       60세~69세|2022-09-23|남자| 25|\n",
      "|    서울특별시|              |       70세 이상|2022-09-23|남자| 17|\n",
      "|    부산광역시|              |       19세~29세|2022-09-23|여자|  9|\n",
      "|    부산광역시|              |       30세~39세|2022-09-23|여자| 33|\n",
      "|    부산광역시|              |       40세~49세|2022-09-23|여자| 38|\n",
      "|    부산광역시|              |       50세~59세|2022-09-23|여자| 32|\n",
      "|    부산광역시|              |       60세~69세|2022-09-23|여자| 31|\n",
      "|    부산광역시|              |       70세 이상|2022-09-23|여자|  9|\n",
      "|    부산광역시|              |       19세~29세|2022-09-23|남자|  4|\n",
      "+--------------+--------------+----------------+----------+----+---+\n",
      "only showing top 20 rows\n",
      "\n"
     ]
    }
   ],
   "source": [
    "tmp3 = df.select('items').first()\n",
    "tmp4 = spark.createDataFrame(tmp3).first()\n",
    "df2 = spark.createDataFrame(tmp4['item'])\n",
    "df2.show()"
   ]
  },
  {
   "cell_type": "markdown",
   "id": "66290f62",
   "metadata": {},
   "source": [
    "OSA_IDX   NUMBER\n",
    "\n",
    "RES_DATE  DATE 등기이전일자\n",
    "\n",
    "RES_REGN_CODE 결과지역코드\n",
    "\n",
    "BUYER_SEX 매수자 성별\n",
    "\n",
    "BUYER_AGES 매수자 나이대\n",
    "\n",
    "TOT 결과건수"
   ]
  },
  {
   "cell_type": "code",
   "execution_count": 229,
   "id": "a94daec6",
   "metadata": {},
   "outputs": [
    {
     "name": "stdout",
     "output_type": "stream",
     "text": [
      "+----------+----------+---------+----------------+---+\n",
      "|      SIDO|  RES_DATE|BUYER_SEX|      BUYER_AGES|TOT|\n",
      "+----------+----------+---------+----------------+---+\n",
      "|서울특별시|2022-09-23|     여자|       19세~29세| 20|\n",
      "|서울특별시|2022-09-23|     여자|       30세~39세| 56|\n",
      "|서울특별시|2022-09-23|     여자|       40세~49세| 65|\n",
      "|서울특별시|2022-09-23|     여자|       50세~59세| 50|\n",
      "|서울특별시|2022-09-23|     여자|       60세~69세| 27|\n",
      "|서울특별시|2022-09-23|     여자|       70세 이상| 15|\n",
      "|서울특별시|2022-09-23|     남자|0~18세(미성년자)|  1|\n",
      "|서울특별시|2022-09-23|     남자|       19세~29세| 17|\n",
      "|서울특별시|2022-09-23|     남자|       30세~39세| 66|\n",
      "|서울특별시|2022-09-23|     남자|       40세~49세| 62|\n",
      "|서울특별시|2022-09-23|     남자|       50세~59세| 44|\n",
      "|서울특별시|2022-09-23|     남자|       60세~69세| 25|\n",
      "|서울특별시|2022-09-23|     남자|       70세 이상| 17|\n",
      "|부산광역시|2022-09-23|     여자|       19세~29세|  9|\n",
      "|부산광역시|2022-09-23|     여자|       30세~39세| 33|\n",
      "|부산광역시|2022-09-23|     여자|       40세~49세| 38|\n",
      "|부산광역시|2022-09-23|     여자|       50세~59세| 32|\n",
      "|부산광역시|2022-09-23|     여자|       60세~69세| 31|\n",
      "|부산광역시|2022-09-23|     여자|       70세 이상|  9|\n",
      "|부산광역시|2022-09-23|     남자|       19세~29세|  4|\n",
      "+----------+----------+---------+----------------+---+\n",
      "only showing top 20 rows\n",
      "\n"
     ]
    }
   ],
   "source": [
    "df_sex_age = df2.select(df2.adminRegn1Name.alias('SIDO'),df2.resDate.alias('RES_DATE'),df2.sex.alias('BUYER_SEX'),df2.bdata_age.alias('BUYER_AGES'),df2.tot.alias('TOT'))\n",
    "df_sex_age.show()"
   ]
  },
  {
   "cell_type": "code",
   "execution_count": 273,
   "id": "70b628df",
   "metadata": {
    "scrolled": true
   },
   "outputs": [
    {
     "name": "stderr",
     "output_type": "stream",
     "text": [
      "[Stage 333:>                                                        (0 + 1) / 1]\r"
     ]
    },
    {
     "name": "stdout",
     "output_type": "stream",
     "text": [
      "+-------------+---+----------------+---------+----------+-------+\n",
      "|RES_REGN_CODE|TOT|      BUYER_AGES|BUYER_SEX|  RES_DATE|OSA_IDX|\n",
      "+-------------+---+----------------+---------+----------+-------+\n",
      "|        42000|  7|       19세~29세|     여자|2022-09-23|      1|\n",
      "|        42000| 24|       30세~39세|     여자|2022-09-23|      2|\n",
      "|        42000| 30|       40세~49세|     여자|2022-09-23|      3|\n",
      "|        42000| 50|       50세~59세|     여자|2022-09-23|      4|\n",
      "|        42000| 56|       60세~69세|     여자|2022-09-23|      5|\n",
      "|        42000| 18|       70세 이상|     여자|2022-09-23|      6|\n",
      "|        42000|  4|0~18세(미성년자)|     남자|2022-09-23|      7|\n",
      "|        42000|  7|       19세~29세|     남자|2022-09-23|      8|\n",
      "|        42000| 27|       30세~39세|     남자|2022-09-23|      9|\n",
      "|        42000| 30|       40세~49세|     남자|2022-09-23|     10|\n",
      "|        42000| 59|       50세~59세|     남자|2022-09-23|     11|\n",
      "|        42000| 45|       60세~69세|     남자|2022-09-23|     12|\n",
      "|        42000| 11|       70세 이상|     남자|2022-09-23|     13|\n",
      "|        41000| 27|       19세~29세|     여자|2022-09-23|     14|\n",
      "|        41000| 91|       30세~39세|     여자|2022-09-23|     15|\n",
      "|        41000|133|       40세~49세|     여자|2022-09-23|     16|\n",
      "|        41000|139|       50세~59세|     여자|2022-09-23|     17|\n",
      "|        41000|105|       60세~69세|     여자|2022-09-23|     18|\n",
      "|        41000| 44|       70세 이상|     여자|2022-09-23|     19|\n",
      "|        41000| 41|       19세~29세|     남자|2022-09-23|     20|\n",
      "+-------------+---+----------------+---------+----------+-------+\n",
      "only showing top 20 rows\n",
      "\n"
     ]
    },
    {
     "name": "stderr",
     "output_type": "stream",
     "text": [
      "\r",
      "                                                                                \r"
     ]
    }
   ],
   "source": [
    "own_sex_age = df_sex_age.join(df_loc_code, on='SIDO')\n",
    "own_sex_age = own_sex_age.select(col('LOC_CODE').alias('RES_REGN_CODE'),col('TOT').cast('int'),col('BUYER_AGES'),col('BUYER_SEX'),col('RES_DATE').cast(DateType()))\n",
    "own_sex_age = own_sex_age.withColumn('OSA_IDX', row_number().over(Window.orderBy(monotonically_increasing_id())))\n",
    "own_sex_age.show()"
   ]
  },
  {
   "cell_type": "code",
   "execution_count": 274,
   "id": "869c292e",
   "metadata": {},
   "outputs": [
    {
     "name": "stdout",
     "output_type": "stream",
     "text": [
      "root\n",
      " |-- RES_REGN_CODE: string (nullable = true)\n",
      " |-- TOT: integer (nullable = true)\n",
      " |-- BUYER_AGES: string (nullable = true)\n",
      " |-- BUYER_SEX: string (nullable = true)\n",
      " |-- RES_DATE: date (nullable = true)\n",
      " |-- OSA_IDX: integer (nullable = false)\n",
      "\n"
     ]
    }
   ],
   "source": [
    "own_sex_age.printSchema()"
   ]
  },
  {
   "cell_type": "code",
   "execution_count": 275,
   "id": "749a2670",
   "metadata": {},
   "outputs": [
    {
     "name": "stderr",
     "output_type": "stream",
     "text": [
      "                                                                                \r"
     ]
    }
   ],
   "source": [
    "own_sex_age.write.jdbc(url=JDBC['url'], table='OWN_SEX_AGE', mode='append', properties=JDBC['props'])"
   ]
  },
  {
   "cell_type": "code",
   "execution_count": null,
   "id": "2f40910c",
   "metadata": {},
   "outputs": [],
   "source": []
  }
 ],
 "metadata": {
  "kernelspec": {
   "display_name": "Python 3 (ipykernel)",
   "language": "python",
   "name": "python3"
  },
  "language_info": {
   "codemirror_mode": {
    "name": "ipython",
    "version": 3
   },
   "file_extension": ".py",
   "mimetype": "text/x-python",
   "name": "python",
   "nbconvert_exporter": "python",
   "pygments_lexer": "ipython3",
   "version": "3.8.10"
  }
 },
 "nbformat": 4,
 "nbformat_minor": 5
}
