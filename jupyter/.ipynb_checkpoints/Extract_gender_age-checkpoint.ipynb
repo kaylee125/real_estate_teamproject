{
 "cells": [
  {
   "cell_type": "code",
   "execution_count": 1,
   "id": "68c63b92",
   "metadata": {},
   "outputs": [],
   "source": [
    "import requests\n",
    "import json\n",
    "import datetime as dt\n",
    "from hdfs import InsecureClient"
   ]
  },
  {
   "cell_type": "code",
   "execution_count": 2,
   "id": "7c1f1bdd",
   "metadata": {},
   "outputs": [],
   "source": [
    "client = InsecureClient('http://localhost:9870', user='big')"
   ]
  },
  {
   "cell_type": "markdown",
   "id": "567b0260",
   "metadata": {},
   "source": [
    "### api실행함수/기준일자 함수정의"
   ]
  },
  {
   "cell_type": "code",
   "execution_count": 3,
   "id": "85943f17",
   "metadata": {},
   "outputs": [],
   "source": [
    "def execute_rest_api(method, url, headers, params):\n",
    "    if method == 'get':\n",
    "        res = requests.get(url, params=params, headers=headers, verify = False)\n",
    "    elif method == 'post':\n",
    "        res = requests.post(url, params=params, headers=headers, verify = False)\n",
    "        \n",
    "    if res == None or res.status_code != 200:\n",
    "        raise Exception('응답코드 : ' + str(res.status_code))\n",
    "    \n",
    "    return res.text\n",
    "\n",
    "def cal_std_day(before_day):   \n",
    "    x = dt.datetime.now() - dt.timedelta(before_day)\n",
    "    year = x.year\n",
    "    month = x.month if x.month >= 10 else '0'+ str(x.month)\n",
    "    day = x.day if x.day >= 10 else '0'+ str(x.day)  \n",
    "    return str(year)+ str(month)+str(day)"
   ]
  },
  {
   "cell_type": "markdown",
   "id": "60990fae",
   "metadata": {},
   "source": [
    "### API 호출"
   ]
  },
  {
   "cell_type": "code",
   "execution_count": 6,
   "id": "811fe2a9",
   "metadata": {},
   "outputs": [],
   "source": [
    "# api 호출\n",
    "url = \"https://data.iros.go.kr/openapi/cr/rs/selectCrRsRgsCsOpenApi.rest?id=0000000024\"\n",
    "service_key = 'd90f719b5bc64a1fbbf81fffbbe86f90'\n",
    "file_dir = '/real_estate/gender_age/'\n",
    "\n",
    "data={\n",
    "    'pageIndex':'1'\n",
    "    ,'sort_cond':''\n",
    "    ,'sort_ord':''\n",
    "    ,'ris_menu_seq':'0000000007'\n",
    "    ,'title':'%EB%B6%80%EB%8F%99%EC%82%B0 %EC%86%8C%EC%9C%A0%EA%B6%8C %EC%B7%A8%EB%93%9D%ED%98%84%ED%99%A9(%EC%A7%80%EC%97%AD%2C %EC%86%8C%EC%9C%A0%EC%9E%90%EB%B3%84)'\n",
    "    ,'search_date':'201701'\n",
    "    ,'rdata_seq':'0000000252'\n",
    "    ,'search_type':'037001'\n",
    "    ,'search_word':'%EB%B6%80%EB%8F%99%EC%82%B0 %EC%86%8C%EC%9C%A0%EA%B6%8C %EC%B7%A8%EB%93%9D%ED%98%84%ED%99%A9'\n",
    "    ,'pagePerCount':'10'\n",
    "    ,'search_order':'031003'\n",
    "    ,'dts_prmm_ofr_yn':'Y'\n",
    "    ,'returnUrl':''\n",
    "    ,'search_regn_name':''\n",
    "    ,'search_year':''\n",
    "    ,'search_mon':''\n",
    "    \n",
    "}\n",
    "\n",
    "headers={\n",
    "    'Content-Type':'application/x-www-form-urlencoded'\n",
    "    ,'-User-Agent':'PostmanRuntime/7.29.2'\n",
    "    ,'Accept':'*/*'\n",
    "    ,'Accept-Encoding':'gzip, deflate, br'\n",
    "    ,'Connection':'keep-alive'\n",
    "}\n"
   ]
  },
  {
   "cell_type": "code",
   "execution_count": 8,
   "id": "71e49dca",
   "metadata": {},
   "outputs": [
    {
     "name": "stderr",
     "output_type": "stream",
     "text": [
      "/home/big/.local/lib/python3.8/site-packages/urllib3/connectionpool.py:1045: InsecureRequestWarning: Unverified HTTPS request is being made to host 'data.iros.go.kr'. Adding certificate verification is strongly advised. See: https://urllib3.readthedocs.io/en/1.26.x/advanced-usage.html#ssl-warnings\n",
      "  warnings.warn(\n",
      "/home/big/.local/lib/python3.8/site-packages/urllib3/connectionpool.py:1045: InsecureRequestWarning: Unverified HTTPS request is being made to host 'data.iros.go.kr'. Adding certificate verification is strongly advised. See: https://urllib3.readthedocs.io/en/1.26.x/advanced-usage.html#ssl-warnings\n",
      "  warnings.warn(\n",
      "/home/big/.local/lib/python3.8/site-packages/urllib3/connectionpool.py:1045: InsecureRequestWarning: Unverified HTTPS request is being made to host 'data.iros.go.kr'. Adding certificate verification is strongly advised. See: https://urllib3.readthedocs.io/en/1.26.x/advanced-usage.html#ssl-warnings\n",
      "  warnings.warn(\n",
      "/home/big/.local/lib/python3.8/site-packages/urllib3/connectionpool.py:1045: InsecureRequestWarning: Unverified HTTPS request is being made to host 'data.iros.go.kr'. Adding certificate verification is strongly advised. See: https://urllib3.readthedocs.io/en/1.26.x/advanced-usage.html#ssl-warnings\n",
      "  warnings.warn(\n",
      "/home/big/.local/lib/python3.8/site-packages/urllib3/connectionpool.py:1045: InsecureRequestWarning: Unverified HTTPS request is being made to host 'data.iros.go.kr'. Adding certificate verification is strongly advised. See: https://urllib3.readthedocs.io/en/1.26.x/advanced-usage.html#ssl-warnings\n",
      "  warnings.warn(\n"
     ]
    }
   ],
   "source": [
    "\n",
    "for i in range(1,10):\n",
    "    res = requests.post(url,data=data,headers=headers, verify = False)\n",
    "    res.json()\n",
    "    file_name = 'gender_registration' + params['search_start_date_api'] + '.json'\n",
    "    client.write(file_dir + file_name, res, encoding='utf-8')"
   ]
  },
  {
   "cell_type": "code",
   "execution_count": null,
   "id": "ee29bf91",
   "metadata": {},
   "outputs": [],
   "source": []
  }
 ],
 "metadata": {
  "kernelspec": {
   "display_name": "Python 3 (ipykernel)",
   "language": "python",
   "name": "python3"
  },
  "language_info": {
   "codemirror_mode": {
    "name": "ipython",
    "version": 3
   },
   "file_extension": ".py",
   "mimetype": "text/x-python",
   "name": "python",
   "nbconvert_exporter": "python",
   "pygments_lexer": "ipython3",
   "version": "3.8.10"
  },
  "vscode": {
   "interpreter": {
    "hash": "3196968d684371006099b3d55edeef8ed90365227a30deaef86e5d4aa8519be0"
   }
  }
 },
 "nbformat": 4,
 "nbformat_minor": 5
}
