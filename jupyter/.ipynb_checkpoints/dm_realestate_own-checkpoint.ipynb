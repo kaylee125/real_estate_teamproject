{
 "cells": [
  {
   "cell_type": "code",
   "execution_count": 3,
   "id": "69bc12f3",
   "metadata": {},
   "outputs": [],
   "source": [
    "\n",
    "from IPython.core.interactiveshell import InteractiveShell\n",
    "InteractiveShell.ast_node_interactivity = \"all\""
   ]
  },
  {
   "cell_type": "code",
   "execution_count": 2,
   "id": "66af60ff",
   "metadata": {},
   "outputs": [],
   "source": [
    "from datetime import date, datetime\n",
    "from pyspark.sql.types import *\n",
    "from pyspark.sql.functions import *\n",
    "import datetime as dt"
   ]
  },
  {
   "cell_type": "code",
   "execution_count": 7,
   "id": "3e0baa9b",
   "metadata": {},
   "outputs": [],
   "source": [
    "# import platform\n",
    "\n",
    "# from matplotlib import font_manager, rc\n",
    "# plt.rcParams['axes.unicode_minus'] = False\n",
    "\n",
    "# if platform.system() == 'Darwin':  # 맥OS \n",
    "#     rc('font', family='AppleGothic')\n",
    "# elif platform.system() == 'Windows':  # 윈도우\n",
    "#     path = \"c:/Windows/Fonts/malgun.ttf\"\n",
    "#     font_name = font_manager.FontProperties(fname=path).get_name()\n",
    "#     rc('font', family=font_name)\n",
    "# else:\n",
    "#     rc('font', family='NanumGothic')"
   ]
  },
  {
   "cell_type": "code",
   "execution_count": 4,
   "id": "249fc227",
   "metadata": {},
   "outputs": [],
   "source": [
    "def cal_std_day(befor_day):   \n",
    "    x = dt.datetime.now() - dt.timedelta(befor_day)\n",
    "    year = x.year\n",
    "    month = x.month if x.month >= 10 else '0'+ str(x.month)\n",
    "    day = x.day if x.day >= 10 else '0'+ str(x.day)  \n",
    "    return str(year)+ '-' +str(month)+ '-' +str(day)"
   ]
  },
  {
   "cell_type": "code",
   "execution_count": 5,
   "id": "55a0866c",
   "metadata": {},
   "outputs": [],
   "source": [
    "JDBC = {\n",
    "    'url':'jdbc:oracle:thin:@realestate_high?TNS_ADMIN=/home/big/study/db/Wallet_REALESTATE'\n",
    "    ,'props':{\n",
    "        'user':'dw_realestate',\n",
    "        'password':'123qwe!@#QWE'\n",
    "    }   \n",
    "}"
   ]
  },
  {
   "cell_type": "markdown",
   "id": "14d31663",
   "metadata": {},
   "source": [
    "### 전국소유유형별 등기 구분 수\n",
    "CLS 소유유형 ->owner_cls\n",
    "\n",
    "TOT 건수 ->소유유형별로 그룹바이 후 건수 count\n",
    "\n",
    "RATE 비율->"
   ]
  },
  {
   "cell_type": "code",
   "execution_count": 6,
   "id": "441c533d",
   "metadata": {},
   "outputs": [],
   "source": [
    "realestate_own = spark.read.jdbc(url=JDBC['url'], table='REALESTATE_OWN', properties=JDBC['props'])\n",
    "df_loc = spark.read.jdbc(url=JDBC['url'], table='LOC', properties=JDBC['props'])"
   ]
  },
  {
   "cell_type": "code",
   "execution_count": 7,
   "id": "d5ad7dee",
   "metadata": {},
   "outputs": [],
   "source": [
    "# df_real=realestate_own.select(col('PROPERTY_TYPE'),col('TOT') / sum_value * 100) \\\n",
    "# .groupBy(col('PROPERTY_TYPE')) \\\n",
    "# .agg(count('PROPERTY_TYPE').alias('TOT'))\n",
    "# df_real.show()\n",
    "\n",
    "df_loc.createOrReplaceTempView('LOC')"
   ]
  },
  {
   "cell_type": "code",
   "execution_count": 8,
   "id": "c29646cb",
   "metadata": {},
   "outputs": [
    {
     "name": "stderr",
     "output_type": "stream",
     "text": [
      "                                                                                \r"
     ]
    },
    {
     "name": "stdout",
     "output_type": "stream",
     "text": [
      "+------------------------+-----+-----+\n",
      "|                     cls|  tot| rate|\n",
      "+------------------------+-----+-----+\n",
      "|                  외국인|  823| 5.83|\n",
      "|                    기타|    2| 0.01|\n",
      "|                  비법인|  430| 3.05|\n",
      "|                  내국인|11284|79.99|\n",
      "|                재외국민|   62| 0.44|\n",
      "|                    법인|  997| 7.07|\n",
      "|국가기관 및 지방자치단체|  508|  3.6|\n",
      "+------------------------+-----+-----+\n",
      "\n"
     ]
    }
   ],
   "source": [
    "realestate_own.createOrReplaceTempView(\"REALESTATE_OWN\")\n",
    "a=spark.sql('''\n",
    "select owner_cls as cls,count(owner_cls)as tot\n",
    ",round((count(owner_cls)/(select count(owner_cls) from realestate_own)*100),2) as rate\n",
    "from realestate_own\n",
    "group by owner_cls;\n",
    "''')\n",
    "a.show()"
   ]
  },
  {
   "cell_type": "markdown",
   "id": "f41198ed",
   "metadata": {},
   "source": [
    "### 서울시 소유유형별 등기 구분 수\n"
   ]
  },
  {
   "cell_type": "code",
   "execution_count": 12,
   "id": "f379bdfc",
   "metadata": {},
   "outputs": [
    {
     "name": "stderr",
     "output_type": "stream",
     "text": [
      "                                                                                \r"
     ]
    },
    {
     "name": "stdout",
     "output_type": "stream",
     "text": [
      "+------------------------+----+----+\n",
      "|                     cls| tot|rate|\n",
      "+------------------------+----+----+\n",
      "|                  외국인| 153|1.08|\n",
      "|                    기타|   1|0.01|\n",
      "|                  비법인|  31|0.22|\n",
      "|                  내국인|1148|8.14|\n",
      "|                재외국민|  10|0.07|\n",
      "|                    법인| 117|0.83|\n",
      "|국가기관 및 지방자치단체|  33|0.23|\n",
      "+------------------------+----+----+\n",
      "\n"
     ]
    }
   ],
   "source": [
    "realestate_own.createOrReplaceTempView(\"REALESTATE_OWN\")\n",
    "df_loc.createOrReplaceTempView('LOC')\n",
    "a=spark.sql('''\n",
    "select owner_cls as cls,count(owner_cls)as tot\n",
    ",round((count(owner_cls)/(select count(owner_cls) from realestate_own)*100),2) as rate\n",
    "from realestate_own ro\n",
    "inner join loc l\n",
    "on l.loc_code=ro.regn_code\n",
    "where sido='서울특별시'\n",
    "group by owner_cls;\n",
    "''')\n",
    "a.show()"
   ]
  },
  {
   "cell_type": "code",
   "execution_count": null,
   "id": "f78f956e",
   "metadata": {},
   "outputs": [],
   "source": [
    "#나이대\n",
    "realestate_own.createOrReplaceTempView(\"REALESTATE_OWN\")\n",
    "a=spark.sql('''\n",
    "select OWNER_AGES as ages,count(OWNER_AGES)as tot\n",
    ",round((count(OWNER_AGES)/(select count(OWNER_AGES) from realestate_own)*100),2) as rate\n",
    "from realestate_own\n",
    "group by OWNER_AGES;\n",
    "''')\n",
    "a.show()"
   ]
  },
  {
   "cell_type": "code",
   "execution_count": 13,
   "id": "237163e1",
   "metadata": {},
   "outputs": [
    {
     "name": "stderr",
     "output_type": "stream",
     "text": [
      "                                                                                \r"
     ]
    },
    {
     "name": "stdout",
     "output_type": "stream",
     "text": [
      "+----------------+---+----+\n",
      "|            ages|tot|rate|\n",
      "+----------------+---+----+\n",
      "|       30세~39세|211| 1.5|\n",
      "|            기타|182|1.29|\n",
      "|0~18세(미성년자)| 62|0.44|\n",
      "|       50세~59세|244|1.73|\n",
      "|       40세~49세|219|1.55|\n",
      "|       60세~69세|233|1.65|\n",
      "|       70세 이상|191|1.35|\n",
      "|       19세~29세|151|1.07|\n",
      "+----------------+---+----+\n",
      "\n"
     ]
    }
   ],
   "source": [
    "realestate_own.createOrReplaceTempView(\"REALESTATE_OWN\")\n",
    "a=spark.sql('''\n",
    "select OWNER_AGES as ages,count(OWNER_AGES)as tot\n",
    ",round((count(OWNER_AGES)/(select count(OWNER_AGES) from realestate_own)*100),2) as rate\n",
    "from realestate_own ro\n",
    "inner join loc l\n",
    "on l.loc_code=ro.regn_code\n",
    "where sido='서울특별시'\n",
    "group by OWNER_AGES;\n",
    "''')\n",
    "a.show()"
   ]
  },
  {
   "cell_type": "code",
   "execution_count": null,
   "id": "9eb16c6a",
   "metadata": {},
   "outputs": [],
   "source": [
    "#성별\n",
    "realestate_own.createOrReplaceTempView(\"REALESTATE_OWN\")\n",
    "a=spark.sql('''\n",
    "select OWNER_SEX as sex,count(OWNER_SEX)as tot\n",
    ",round((count(OWNER_SEX)/(select count(OWNER_SEX) from realestate_own)*100),2) as rate\n",
    "from realestate_own\n",
    "group by OWNER_SEX;\n",
    "''')\n",
    "a.show()"
   ]
  },
  {
   "cell_type": "code",
   "execution_count": 14,
   "id": "390f7eb5",
   "metadata": {},
   "outputs": [
    {
     "name": "stderr",
     "output_type": "stream",
     "text": [
      "                                                                                \r"
     ]
    },
    {
     "name": "stdout",
     "output_type": "stream",
     "text": [
      "+----+---+----+\n",
      "| sex|tot|rate|\n",
      "+----+---+----+\n",
      "|기타|182|1.29|\n",
      "|여자|640|4.54|\n",
      "|남자|671|4.76|\n",
      "+----+---+----+\n",
      "\n"
     ]
    }
   ],
   "source": [
    "realestate_own.createOrReplaceTempView(\"REALESTATE_OWN\")\n",
    "a=spark.sql('''\n",
    "select OWNER_SEX as sex,count(OWNER_SEX)as tot\n",
    ",round((count(OWNER_SEX)/(select count(OWNER_SEX) from realestate_own)*100),2) as rate\n",
    "from realestate_own ro\n",
    "inner join loc l\n",
    "on l.loc_code=ro.regn_code\n",
    "where sido='서울특별시'\n",
    "group by OWNER_SEX;\n",
    "''')\n",
    "a.show()"
   ]
  },
  {
   "cell_type": "code",
   "execution_count": null,
   "id": "43c40680",
   "metadata": {},
   "outputs": [],
   "source": []
  }
 ],
 "metadata": {
  "kernelspec": {
   "display_name": "Python 3 (ipykernel)",
   "language": "python",
   "name": "python3"
  },
  "language_info": {
   "codemirror_mode": {
    "name": "ipython",
    "version": 3
   },
   "file_extension": ".py",
   "mimetype": "text/x-python",
   "name": "python",
   "nbconvert_exporter": "python",
   "pygments_lexer": "ipython3",
   "version": "3.8.10"
  }
 },
 "nbformat": 4,
 "nbformat_minor": 5
}
