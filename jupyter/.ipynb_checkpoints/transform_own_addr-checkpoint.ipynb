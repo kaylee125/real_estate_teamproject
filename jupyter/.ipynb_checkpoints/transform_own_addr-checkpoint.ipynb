{
 "cells": [
  {
   "cell_type": "code",
   "execution_count": 1,
   "id": "02bb9f0a",
   "metadata": {},
   "outputs": [],
   "source": [
    "import json\n",
    "import datetime as dt\n",
    "import pandas as pd\n",
    "from pyspark.sql.functions import col, monotonically_increasing_id, row_number\n",
    "from pyspark.sql.window import Window\n",
    "from pyspark.sql.types import *"
   ]
  },
  {
   "cell_type": "code",
   "execution_count": 2,
   "id": "31bb6b6e",
   "metadata": {},
   "outputs": [],
   "source": [
    "JDBC = {\n",
    "    'url':'jdbc:oracle:thin:@realestate_high?TNS_ADMIN=/home/big/study/db/Wallet_REALESTATE'\n",
    "    ,'props':{\n",
    "        'user':'dw_realestate',\n",
    "        'password':'123qwe!@#QWE'\n",
    "    }   \n",
    "}"
   ]
  },
  {
   "cell_type": "code",
   "execution_count": 3,
   "id": "fbc70b7b",
   "metadata": {},
   "outputs": [],
   "source": [
    "from enum import Enum\n",
    "\n",
    "# 데이터웨어하우스 ENUM\n",
    "class DataWarehouse(Enum):\n",
    "    URL='jdbc:oracle:thin:@realestate_high?TNS_ADMIN=/home/big/study/db/Wallet_REALESTATE'\n",
    "    PROPS={\n",
    "        'user':'dw_realestate',\n",
    "        'password':'123qwe!@#QWE'\n",
    "    }"
   ]
  },
  {
   "cell_type": "code",
   "execution_count": 4,
   "id": "779493fe",
   "metadata": {},
   "outputs": [],
   "source": [
    "def cal_std_day(befor_day):   \n",
    "    x = dt.datetime.now() - dt.timedelta(befor_day)\n",
    "    year = x.year\n",
    "    month = x.month if x.month >= 10 else '0'+ str(x.month)\n",
    "    day = x.day if x.day >= 10 else '0'+ str(x.day)  \n",
    "    return str(year) +str(month) +str(day)"
   ]
  },
  {
   "cell_type": "code",
   "execution_count": 5,
   "id": "a9dcddd1",
   "metadata": {},
   "outputs": [],
   "source": [
    "# 데이터웨어하우스, 데이터마트에 저장하기 위한 함수\n",
    "def save_data(config, dataframe, table_name):\n",
    "    dataframe.write.jdbc(url=config.URL.value,\n",
    "                        table=table_name,\n",
    "                        mode='append',\n",
    "                        properties=config.PROPS.value)\n",
    "\n",
    "# 데이터웨어하우스, 데이터마트에 덮어쓰기 위한 함수\n",
    "def overwrite_data(config, dataframe, table_name):\n",
    "    dataframe.write.jdbc(url=config.URL.value,\n",
    "                        table=table_name,\n",
    "                        mode='overwrite',\n",
    "                        properties=config.PROPS.value)\n",
    "\n",
    "# 데이터웨어하우스, 데이터마트에서 데이터 가져오기 위한 함수\n",
    "def find_data(config, table_name):\n",
    "    return spark.read.jdbc(url=config.URL.value,\n",
    "                                        table=table_name,\n",
    "                                        properties=config.PROPS.value)"
   ]
  },
  {
   "cell_type": "code",
   "execution_count": 8,
   "id": "9ea55772",
   "metadata": {},
   "outputs": [
    {
     "name": "stderr",
     "output_type": "stream",
     "text": [
      "[Stage 6:>                                                          (0 + 1) / 1]\r"
     ]
    },
    {
     "name": "stdout",
     "output_type": "stream",
     "text": [
      "+--------------+--------+\n",
      "|          SIDO|LOC_CODE|\n",
      "+--------------+--------+\n",
      "|    부산광역시|   26000|\n",
      "|    대구광역시|   27000|\n",
      "|    인천광역시|   28000|\n",
      "|    광주광역시|   29000|\n",
      "|    대전광역시|   30000|\n",
      "|    울산광역시|   31000|\n",
      "|세종특별자치시|   36110|\n",
      "|        경기도|   41000|\n",
      "|        강원도|   42000|\n",
      "|      충청북도|   43000|\n",
      "|      충청남도|   44000|\n",
      "|      전라북도|   45000|\n",
      "|      전라남도|   46000|\n",
      "|      경상북도|   47000|\n",
      "|      경상남도|   48000|\n",
      "|    서울특별시|   11000|\n",
      "|제주특별자치도|   50000|\n",
      "+--------------+--------+\n",
      "\n"
     ]
    },
    {
     "name": "stderr",
     "output_type": "stream",
     "text": [
      "\r",
      "                                                                                \r"
     ]
    }
   ],
   "source": [
    "df_loc = find_data(DataWarehouse, 'LOC')\n",
    "loc_code = df_loc.select(['SIDO','LOC_CODE']).filter(df_loc.SIGUNGU.isNull()).collect()\n",
    "df_loc_code = spark.createDataFrame(loc_code)\n",
    "df_loc_code.show()"
   ]
  },
  {
   "cell_type": "code",
   "execution_count": 9,
   "id": "f2ab37be",
   "metadata": {},
   "outputs": [
    {
     "name": "stderr",
     "output_type": "stream",
     "text": [
      "                                                                                \r"
     ]
    },
    {
     "name": "stdout",
     "output_type": "stream",
     "text": [
      "+--------------+--------------------+--------------+----------+---+\n",
      "|adminRegn1Name|adminRegn1NamePerson|adminRegn2Name|   resDate|tot|\n",
      "+--------------+--------------------+--------------+----------+---+\n",
      "|    서울특별시|          서울특별시|              |2022-09-23|380|\n",
      "|    서울특별시|          부산광역시|              |2022-09-23|  9|\n",
      "|    서울특별시|          대구광역시|              |2022-09-23|  3|\n",
      "|    서울특별시|          인천광역시|              |2022-09-23| 24|\n",
      "|    서울특별시|          광주광역시|              |2022-09-23|  5|\n",
      "|    서울특별시|          울산광역시|              |2022-09-23|  1|\n",
      "|    서울특별시|      세종특별자치시|              |2022-09-23|  2|\n",
      "|    서울특별시|              경기도|              |2022-09-23|102|\n",
      "|    서울특별시|              강원도|              |2022-09-23|  4|\n",
      "|    서울특별시|            충청남도|              |2022-09-23| 12|\n",
      "|    서울특별시|            전라북도|              |2022-09-23|  3|\n",
      "|    서울특별시|            전라남도|              |2022-09-23|  1|\n",
      "|    서울특별시|            경상남도|              |2022-09-23|  9|\n",
      "|    서울특별시|      제주특별자치도|              |2022-09-23|  2|\n",
      "|    부산광역시|          서울특별시|              |2022-09-23|  4|\n",
      "|    부산광역시|          부산광역시|              |2022-09-23|248|\n",
      "|    부산광역시|          대구광역시|              |2022-09-23|  6|\n",
      "|    부산광역시|              경기도|              |2022-09-23| 10|\n",
      "|    부산광역시|            충청남도|              |2022-09-23|  6|\n",
      "|    부산광역시|            전라북도|              |2022-09-23|  2|\n",
      "+--------------+--------------------+--------------+----------+---+\n",
      "only showing top 20 rows\n",
      "\n"
     ]
    }
   ],
   "source": [
    "file_name = '/realestate_data/address/address_data_'+cal_std_day(11)+'.json'\n",
    "tmp = spark.read.json(file_name, encoding='UTF-8')\n",
    "tmp2 = tmp.select('result').first()\n",
    "df = spark.createDataFrame(tmp2)\n",
    "tmp3 = df.select('items').first()\n",
    "tmp4 = spark.createDataFrame(tmp3).first()\n",
    "df2 = spark.createDataFrame(tmp4['item'])\n",
    "df2.show()"
   ]
  },
  {
   "cell_type": "markdown",
   "id": "66290f62",
   "metadata": {},
   "source": [
    "OA_IDX\n",
    "\n",
    "RES_DATE\n",
    "\n",
    "RES_REGN_CODE\n",
    "\n",
    "BUYER_REGN_CODE\n",
    "\n",
    "TOT"
   ]
  },
  {
   "cell_type": "code",
   "execution_count": 13,
   "id": "a94daec6",
   "metadata": {},
   "outputs": [
    {
     "name": "stdout",
     "output_type": "stream",
     "text": [
      "+----------+----------+--------------+---+\n",
      "|      SIDO|  RES_DATE|         SIDO2|TOT|\n",
      "+----------+----------+--------------+---+\n",
      "|서울특별시|2022-09-23|    서울특별시|380|\n",
      "|서울특별시|2022-09-23|    부산광역시|  9|\n",
      "|서울특별시|2022-09-23|    대구광역시|  3|\n",
      "|서울특별시|2022-09-23|    인천광역시| 24|\n",
      "|서울특별시|2022-09-23|    광주광역시|  5|\n",
      "|서울특별시|2022-09-23|    울산광역시|  1|\n",
      "|서울특별시|2022-09-23|세종특별자치시|  2|\n",
      "|서울특별시|2022-09-23|        경기도|102|\n",
      "|서울특별시|2022-09-23|        강원도|  4|\n",
      "|서울특별시|2022-09-23|      충청남도| 12|\n",
      "|서울특별시|2022-09-23|      전라북도|  3|\n",
      "|서울특별시|2022-09-23|      전라남도|  1|\n",
      "|서울특별시|2022-09-23|      경상남도|  9|\n",
      "|서울특별시|2022-09-23|제주특별자치도|  2|\n",
      "|부산광역시|2022-09-23|    서울특별시|  4|\n",
      "|부산광역시|2022-09-23|    부산광역시|248|\n",
      "|부산광역시|2022-09-23|    대구광역시|  6|\n",
      "|부산광역시|2022-09-23|        경기도| 10|\n",
      "|부산광역시|2022-09-23|      충청남도|  6|\n",
      "|부산광역시|2022-09-23|      전라북도|  2|\n",
      "+----------+----------+--------------+---+\n",
      "only showing top 20 rows\n",
      "\n"
     ]
    }
   ],
   "source": [
    "df_addr = df2.select(df2.adminRegn1Name.alias('SIDO'),df2.resDate.alias('RES_DATE'),df2.adminRegn1NamePerson.alias('SIDO2'),df2.tot.alias('TOT'))\n",
    "df_addr.show()"
   ]
  },
  {
   "cell_type": "code",
   "execution_count": 29,
   "id": "70b628df",
   "metadata": {
    "scrolled": true
   },
   "outputs": [
    {
     "name": "stderr",
     "output_type": "stream",
     "text": [
      "[Stage 107:>                                                        (0 + 1) / 1]\r"
     ]
    },
    {
     "name": "stdout",
     "output_type": "stream",
     "text": [
      "+---------------+---+-------------+----------+------+\n",
      "|BUYER_REGN_CODE|TOT|RES_REGN_CODE|  RES_DATE|OA_IDX|\n",
      "+---------------+---+-------------+----------+------+\n",
      "|          29000|  1|        43000|2022-09-23|     1|\n",
      "|          29000|  3|        44000|2022-09-23|     2|\n",
      "|          29000|  1|        45000|2022-09-23|     3|\n",
      "|          29000| 61|        46000|2022-09-23|     4|\n",
      "|          29000|  2|        28000|2022-09-23|     5|\n",
      "|          29000|  1|        36110|2022-09-23|     6|\n",
      "|          29000|  5|        11000|2022-09-23|     7|\n",
      "|          29000| 83|        29000|2022-09-23|     8|\n",
      "|          29000|  3|        47000|2022-09-23|     9|\n",
      "|          29000|  2|        48000|2022-09-23|    10|\n",
      "|          29000|  3|        41000|2022-09-23|    11|\n",
      "|          29000|  2|        42000|2022-09-23|    12|\n",
      "|          30000|  5|        43000|2022-09-23|    13|\n",
      "|          30000| 38|        44000|2022-09-23|    14|\n",
      "|          30000|  4|        45000|2022-09-23|    15|\n",
      "|          30000|  6|        46000|2022-09-23|    16|\n",
      "|          30000|  1|        28000|2022-09-23|    17|\n",
      "|          30000| 13|        36110|2022-09-23|    18|\n",
      "|          30000| 54|        30000|2022-09-23|    19|\n",
      "|          30000|  2|        27000|2022-09-23|    20|\n",
      "+---------------+---+-------------+----------+------+\n",
      "only showing top 20 rows\n",
      "\n"
     ]
    },
    {
     "name": "stderr",
     "output_type": "stream",
     "text": [
      "\r",
      "                                                                                \r"
     ]
    }
   ],
   "source": [
    "own_addr = df_addr.join(df_loc_code, on='SIDO').drop(col('SIDO'))\n",
    "own_addr = own_addr.select(col('LOC_CODE').alias('RES_REGN_CODE'),col('SIDO2').alias('SIDO'),col('TOT').cast('int'),col('RES_DATE').cast(DateType()) )\n",
    "own_addr = own_addr.join(df_loc_code, on='SIDO').drop(col('SIDO'))\n",
    "own_addr = own_addr.select(col('LOC_CODE').alias('BUYER_REGN_CODE'),col('TOT'),col('RES_REGN_CODE'),col('RES_DATE'))\n",
    "own_addr = own_addr.withColumn('OA_IDX', row_number().over(Window.orderBy(monotonically_increasing_id())))\n",
    "own_addr.show()"
   ]
  },
  {
   "cell_type": "code",
   "execution_count": 30,
   "id": "869c292e",
   "metadata": {},
   "outputs": [
    {
     "name": "stdout",
     "output_type": "stream",
     "text": [
      "root\n",
      " |-- BUYER_REGN_CODE: string (nullable = true)\n",
      " |-- TOT: integer (nullable = true)\n",
      " |-- RES_REGN_CODE: string (nullable = true)\n",
      " |-- RES_DATE: date (nullable = true)\n",
      " |-- OA_IDX: integer (nullable = false)\n",
      "\n"
     ]
    }
   ],
   "source": [
    "own_addr.printSchema()"
   ]
  },
  {
   "cell_type": "code",
   "execution_count": 31,
   "id": "749a2670",
   "metadata": {},
   "outputs": [
    {
     "name": "stderr",
     "output_type": "stream",
     "text": [
      "                                                                                \r"
     ]
    }
   ],
   "source": [
    "own_addr.write.jdbc(url=JDBC['url'], table='OWN_ADDR', mode='append', properties=JDBC['props'])"
   ]
  },
  {
   "cell_type": "code",
   "execution_count": null,
   "id": "2f40910c",
   "metadata": {},
   "outputs": [],
   "source": []
  }
 ],
 "metadata": {
  "kernelspec": {
   "display_name": "Python 3 (ipykernel)",
   "language": "python",
   "name": "python3"
  },
  "language_info": {
   "codemirror_mode": {
    "name": "ipython",
    "version": 3
   },
   "file_extension": ".py",
   "mimetype": "text/x-python",
   "name": "python",
   "nbconvert_exporter": "python",
   "pygments_lexer": "ipython3",
   "version": "3.8.10"
  }
 },
 "nbformat": 4,
 "nbformat_minor": 5
}
