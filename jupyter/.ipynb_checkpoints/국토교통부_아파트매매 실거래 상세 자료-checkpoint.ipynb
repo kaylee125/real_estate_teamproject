{
 "cells": [
  {
   "cell_type": "code",
   "execution_count": 63,
   "id": "68c63b92",
   "metadata": {},
   "outputs": [],
   "source": [
    "import requests\n",
    "import json\n",
    "import datetime as dt\n",
    "from hdfs import InsecureClient\n",
    "from bs4 import BeautifulSoup\n",
    "import pandas as pd"
   ]
  },
  {
   "cell_type": "code",
   "execution_count": 3,
   "id": "7c1f1bdd",
   "metadata": {},
   "outputs": [],
   "source": [
    "client = InsecureClient('http://localhost:9870', user='big')"
   ]
  },
  {
   "cell_type": "markdown",
   "id": "567b0260",
   "metadata": {},
   "source": [
    "### api실행함수 / 날짜 리스트 생성"
   ]
  },
  {
   "cell_type": "code",
   "execution_count": 24,
   "id": "85943f17",
   "metadata": {},
   "outputs": [],
   "source": [
    "def execute_rest_api(method, url, headers, params):\n",
    "    if method == 'get':\n",
    "        res = requests.get(url, params=params, headers=headers, verify = False)\n",
    "    elif method == 'post':\n",
    "        res = requests.post(url, params=params, headers=headers, verify = False)\n",
    "        \n",
    "    if res == None or res.status_code != 200:\n",
    "        raise Exception('응답코드 : ' + str(res.status_code))\n",
    "    \n",
    "    return res.text"
   ]
  },
  {
   "cell_type": "code",
   "execution_count": 84,
   "id": "1844eaec",
   "metadata": {},
   "outputs": [],
   "source": [
    "def cal_std_month(before_month):\n",
    "    x = dt.datetime.now() - dt.timedelta(30*before_month) #현재날짜-지정날짜\n",
    "    year = x.year #연도\n",
    "    month = x.month if x.month >= 10 else '0'+ str(x.month) #월\n",
    "    return str(year) + str(month)"
   ]
  },
  {
   "cell_type": "markdown",
   "id": "60990fae",
   "metadata": {},
   "source": [
    "### API 호출"
   ]
  },
  {
   "cell_type": "code",
   "execution_count": 8,
   "id": "811fe2a9",
   "metadata": {},
   "outputs": [],
   "source": [
    "# api 호출\n",
    "url = \"http://openapi.molit.go.kr/OpenAPI_ToolInstallPackage/service/rest/RTMSOBJSvc/getRTMSDataSvcAptTradeDev?\"\n",
    "service_key = 'NvoJpM4nyxzXkb5F8hffSDHLrfuCyIcVBqBSDCgTa+/7CtQnsrFwE8y/a0lLPVxN1AESAPkiMkfoS7KYrck13A=='\n",
    "file_dir = '/real_estate/apartment_price/'"
   ]
  },
  {
   "cell_type": "code",
   "execution_count": 97,
   "id": "f9f15ee0",
   "metadata": {},
   "outputs": [],
   "source": [
    "params = {'ServiceKey': service_key\n",
    "              ,'pageNo': '1'\n",
    "              ,'numOfRows': '2000'\n",
    "              ,'LAWD_CD': '41190'\n",
    "              ,'DEAL_YMD': '202209'\n",
    "}"
   ]
  },
  {
   "cell_type": "code",
   "execution_count": 51,
   "id": "34702330",
   "metadata": {},
   "outputs": [],
   "source": [
    "def make_date(year, month, day):\n",
    "    if len(month) < 2:\n",
    "        month = '0' + str(month)\n",
    "    if len(day) < 2:\n",
    "        day = '0' + str(day)\n",
    "    res = year + '-' + month + '-' + day\n",
    "    return res"
   ]
  },
  {
   "cell_type": "code",
   "execution_count": 98,
   "id": "71e49dca",
   "metadata": {
    "scrolled": true
   },
   "outputs": [
    {
     "name": "stdout",
     "output_type": "stream",
     "text": [
      "202208\n",
      "<totalCount>148</totalCount>\n",
      "202207\n",
      "<totalCount>141</totalCount>\n",
      "202207\n",
      "<totalCount>141</totalCount>\n",
      "202206\n",
      "<totalCount>203</totalCount>\n",
      "202205\n",
      "<totalCount>290</totalCount>\n",
      "202204\n",
      "<totalCount>298</totalCount>\n",
      "202203\n",
      "<totalCount>274</totalCount>\n",
      "202202\n",
      "<totalCount>193</totalCount>\n",
      "202201\n",
      "<totalCount>179</totalCount>\n",
      "202112\n",
      "<totalCount>194</totalCount>\n",
      "202111\n",
      "<totalCount>243</totalCount>\n",
      "202110\n",
      "<totalCount>354</totalCount>\n",
      "202109\n",
      "<totalCount>411</totalCount>\n",
      "202108\n",
      "<totalCount>549</totalCount>\n",
      "202107\n",
      "<totalCount>652</totalCount>\n",
      "202106\n",
      "<totalCount>597</totalCount>\n",
      "202105\n",
      "<totalCount>758</totalCount>\n",
      "202104\n",
      "<totalCount>731</totalCount>\n",
      "202103\n",
      "<totalCount>903</totalCount>\n",
      "202102\n",
      "<totalCount>821</totalCount>\n",
      "202101\n",
      "<totalCount>864</totalCount>\n",
      "202012\n",
      "<totalCount>1069</totalCount>\n",
      "202011\n",
      "<totalCount>886</totalCount>\n",
      "202010\n",
      "<totalCount>768</totalCount>\n",
      "202009\n",
      "<totalCount>550</totalCount>\n",
      "202008\n",
      "<totalCount>623</totalCount>\n",
      "202007\n",
      "<totalCount>1093</totalCount>\n",
      "202006\n",
      "<totalCount>1557</totalCount>\n",
      "202005\n",
      "<totalCount>1094</totalCount>\n",
      "202004\n",
      "<totalCount>842</totalCount>\n",
      "202003\n",
      "<totalCount>1207</totalCount>\n",
      "202002\n",
      "<totalCount>1660</totalCount>\n",
      "202001\n",
      "<totalCount>933</totalCount>\n",
      "201912\n",
      "<totalCount>962</totalCount>\n",
      "201911\n",
      "<totalCount>1063</totalCount>\n",
      "201910\n",
      "<totalCount>1125</totalCount>\n",
      "201909\n",
      "<totalCount>825</totalCount>\n",
      "201908\n",
      "<totalCount>675</totalCount>\n",
      "201907\n",
      "<totalCount>722</totalCount>\n",
      "201906\n",
      "<totalCount>607</totalCount>\n",
      "201905\n",
      "<totalCount>601</totalCount>\n",
      "201904\n",
      "<totalCount>543</totalCount>\n",
      "201903\n",
      "<totalCount>580</totalCount>\n",
      "201902\n",
      "<totalCount>396</totalCount>\n",
      "201901\n",
      "<totalCount>452</totalCount>\n",
      "201812\n",
      "<totalCount>488</totalCount>\n",
      "201811\n",
      "<totalCount>566</totalCount>\n",
      "201810\n",
      "<totalCount>1026</totalCount>\n",
      "201809\n",
      "<totalCount>1883</totalCount>\n",
      "201808\n",
      "<totalCount>1202</totalCount>\n",
      "201807\n",
      "<totalCount>613</totalCount>\n",
      "201806\n",
      "<totalCount>612</totalCount>\n",
      "201805\n",
      "<totalCount>632</totalCount>\n",
      "201804\n",
      "<totalCount>630</totalCount>\n",
      "201803\n",
      "<totalCount>943</totalCount>\n",
      "201802\n",
      "<totalCount>603</totalCount>\n",
      "201801\n",
      "<totalCount>648</totalCount>\n",
      "201712\n",
      "<totalCount>521</totalCount>\n",
      "201711\n",
      "<totalCount>585</totalCount>\n",
      "201710\n",
      "<totalCount>676</totalCount>\n",
      "201709\n",
      "<totalCount>798</totalCount>\n",
      "201708\n",
      "<totalCount>757</totalCount>\n",
      "201707\n",
      "<totalCount>943</totalCount>\n",
      "201706\n",
      "<totalCount>961</totalCount>\n",
      "201705\n",
      "<totalCount>930</totalCount>\n",
      "201704\n",
      "<totalCount>762</totalCount>\n",
      "201703\n",
      "<totalCount>865</totalCount>\n",
      "201702\n",
      "<totalCount>631</totalCount>\n",
      "201701\n",
      "<totalCount>398</totalCount>\n",
      "48450\n"
     ]
    }
   ],
   "source": [
    "data = []\n",
    "for i in range(1, 70): #106\n",
    "    print(cal_std_month(i))\n",
    "    params['DEAL_YMD'] = cal_std_month(i)\n",
    "    res = execute_rest_api('get', url, {}, params)\n",
    "    soup = BeautifulSoup(res, 'xml')\n",
    "    print(soup.find('totalCount'))\n",
    "    sp_price = soup.findAll('거래금액')\n",
    "    sp_year = soup.findAll('년')\n",
    "    sp_month = soup.findAll('월')\n",
    "    sp_day = soup.findAll('일')\n",
    "    sp_area = soup.findAll('전용면적')\n",
    "    sp_localcode = soup.findAll('지역코드')\n",
    "    for k in range(len(sp_price)):\n",
    "        data.append([sp_price[k].text.strip(), make_date(sp_year[k].text, sp_month[k].text, sp_day[k].text), sp_area[k].text, sp_localcode[k].text])  \n",
    "print(len(data))\n",
    "#print(data)"
   ]
  },
  {
   "cell_type": "code",
   "execution_count": 99,
   "id": "6aa9de6d",
   "metadata": {},
   "outputs": [],
   "source": [
    "df = pd.DataFrame(data)"
   ]
  },
  {
   "cell_type": "code",
   "execution_count": 100,
   "id": "98fe4dc8",
   "metadata": {},
   "outputs": [],
   "source": [
    "with client.write(file_dir + 'apart_price_data_' + params['LAWD_CD'] + '.csv', overwrite=True, encoding='cp949') as writer:\n",
    "    df.to_csv(writer, header=['거래금액(만원)', '거래날짜', '전용면적',  '지역코드'], index=False)"
   ]
  },
  {
   "cell_type": "markdown",
   "id": "a3c0892a",
   "metadata": {},
   "source": []
  },
  {
   "cell_type": "code",
   "execution_count": null,
   "id": "ec43cb6b",
   "metadata": {},
   "outputs": [],
   "source": []
  },
  {
   "cell_type": "code",
   "execution_count": null,
   "id": "a3fc4429",
   "metadata": {},
   "outputs": [],
   "source": []
  },
  {
   "cell_type": "code",
   "execution_count": null,
   "id": "9ef05651",
   "metadata": {},
   "outputs": [],
   "source": []
  },
  {
   "cell_type": "code",
   "execution_count": null,
   "id": "3f304042",
   "metadata": {},
   "outputs": [],
   "source": [
    "# 날짜 리스트\n",
    "deal_y = ['201'+str(i) for i in range(4,10)]\n",
    "deal_y.append('2020')\n",
    "deal_y.append('2021')\n",
    "deal_y.append('2022')\n",
    "\n",
    "deal_ymd = []\n",
    "for year in deal_y:\n",
    "        for m in range(1,13):\n",
    "            if m < 10:\n",
    "                m = str(0) + str(m)\n",
    "            if year+str(m) > '202209' :\n",
    "                break\n",
    "            deal_ymd.append(year+str(m))\n",
    "print(len(deal_ymd))\n",
    "deal_ymd"
   ]
  }
 ],
 "metadata": {
  "kernelspec": {
   "display_name": "Python 3 (ipykernel)",
   "language": "python",
   "name": "python3"
  },
  "language_info": {
   "codemirror_mode": {
    "name": "ipython",
    "version": 3
   },
   "file_extension": ".py",
   "mimetype": "text/x-python",
   "name": "python",
   "nbconvert_exporter": "python",
   "pygments_lexer": "ipython3",
   "version": "3.8.10"
  },
  "vscode": {
   "interpreter": {
    "hash": "916dbcbb3f70747c44a77c7bcd40155683ae19c65e1c03b4aa3499c5328201f1"
   }
  }
 },
 "nbformat": 4,
 "nbformat_minor": 5
}
