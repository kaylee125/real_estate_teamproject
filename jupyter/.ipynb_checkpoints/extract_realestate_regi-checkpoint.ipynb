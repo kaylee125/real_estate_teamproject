{
 "cells": [
  {
   "cell_type": "code",
   "execution_count": 1,
   "id": "061bfa77",
   "metadata": {},
   "outputs": [],
   "source": [
    "#부동산 소유권 취득현황"
   ]
  },
  {
   "cell_type": "code",
   "execution_count": 6,
   "id": "34df46c4",
   "metadata": {},
   "outputs": [],
   "source": [
    "import requests\n",
    "import json\n",
    "import datetime as dt\n",
    "from hdfs import InsecureClient\n",
    "from json import dumps\n",
    "import pandas as pd"
   ]
  },
  {
   "cell_type": "code",
   "execution_count": 7,
   "id": "ee62fac3",
   "metadata": {},
   "outputs": [],
   "source": [
    "client = InsecureClient('http://localhost:9870', user='big')"
   ]
  },
  {
   "cell_type": "code",
   "execution_count": 18,
   "id": "de4bc2b3",
   "metadata": {},
   "outputs": [],
   "source": [
    "JDBC = {\n",
    "    'url':'jdbc:oracle:thin:@realestate_high?TNS_ADMIN=/home/big/study/db/Wallet_REALESTATE'\n",
    "    ,'props':{\n",
    "        'user':'dw_realestate',\n",
    "        'password':'123qwe!@#QWE'\n",
    "    }   \n",
    "}"
   ]
  },
  {
   "cell_type": "markdown",
   "id": "0c080852",
   "metadata": {},
   "source": [
    "## 2017-2022 데이터 수집"
   ]
  },
  {
   "cell_type": "code",
   "execution_count": 24,
   "id": "9f87965e",
   "metadata": {},
   "outputs": [
    {
     "name": "stdout",
     "output_type": "stream",
     "text": [
      "['201701']\n"
     ]
    }
   ],
   "source": [
    "#월 리스트 생성\n",
    "deal_y = ['201'+str(i) for i in range(7,10)]\n",
    "deal_y.append('2020')\n",
    "deal_y.append('2021')\n",
    "deal_y.append('2022')\n",
    "\n",
    "deal_ymd = []\n",
    "for year in deal_y:\n",
    "        for m in range(1,13):\n",
    "            if m < 10:\n",
    "                m = str(0) + str(m)\n",
    "            if year+str(m) > '202209' :\n",
    "                break\n",
    "            deal_ymd.append(year+str(m))\n",
    "\n",
    "deal_ymd=deal_ymd[0:1]\n",
    "print(deal_ymd)"
   ]
  },
  {
   "cell_type": "markdown",
   "id": "e9dad092",
   "metadata": {},
   "source": [
    "### api실행함수/기준일자 함수정의"
   ]
  },
  {
   "cell_type": "code",
   "execution_count": 9,
   "id": "55420830",
   "metadata": {},
   "outputs": [],
   "source": [
    "# url = \"https://data.iros.go.kr/rp/ds/selectDatasetInqDetl.do\"\n",
    "# service_key = '746cac395d3d43f2bc4ba51f1fe56a68\n",
    "file_dir = '/project/'\n",
    "url = \"https://data.iros.go.kr/rp/ds/selectDatasetInqDetl.do\"\n",
    "service_key = '746cac395d3d43f2bc4ba51f1fe56a68'\n",
    "\n",
    "data={\n",
    "    'pageIndex':'1'\n",
    "    ,'sort_cond':''\n",
    "    ,'sort_ord':''\n",
    "    ,'ris_menu_seq':'0000000007'\n",
    "    ,'title':'%EB%B6%80%EB%8F%99%EC%82%B0 %EC%86%8C%EC%9C%A0%EA%B6%8C %EC%B7%A8%EB%93%9D%ED%98%84%ED%99%A9(%EC%A7%80%EC%97%AD%2C %EC%86%8C%EC%9C%A0%EC%9E%90%EB%B3%84)'\n",
    "    ,'search_date':'201701'\n",
    "    ,'rdata_seq':'0000000252'\n",
    "    ,'search_type':'037001'\n",
    "    ,'search_word':'%EB%B6%80%EB%8F%99%EC%82%B0 %EC%86%8C%EC%9C%A0%EA%B6%8C %EC%B7%A8%EB%93%9D%ED%98%84%ED%99%A9'\n",
    "    ,'pagePerCount':'10'\n",
    "    ,'search_order':'031003'\n",
    "    ,'dts_prmm_ofr_yn':'Y'\n",
    "    ,'returnUrl':''\n",
    "    ,'search_regn_name':''\n",
    "    ,'search_year':''\n",
    "    ,'search_mon':''\n",
    "\n",
    "}\n",
    "\n",
    "headers={\n",
    "    'Content-Type':'application/x-www-form-urlencoded'\n",
    "    ,'-User-Agent':'PostmanRuntime/7.29.2'\n",
    "    ,'Accept':'*/*'\n",
    "    ,'Accept-Encoding':'gzip, deflate, br'\n",
    "    ,'Connection':'keep-alive'\n",
    "}\n",
    "    \n"
   ]
  },
  {
   "cell_type": "code",
   "execution_count": 25,
   "id": "6c5e42dd",
   "metadata": {
    "scrolled": true
   },
   "outputs": [
    {
     "name": "stderr",
     "output_type": "stream",
     "text": [
      "/home/big/.local/lib/python3.8/site-packages/urllib3/connectionpool.py:1045: InsecureRequestWarning: Unverified HTTPS request is being made to host 'data.iros.go.kr'. Adding certificate verification is strongly advised. See: https://urllib3.readthedocs.io/en/1.26.x/advanced-usage.html#ssl-warnings\n",
      "  warnings.warn(\n"
     ]
    }
   ],
   "source": [
    "\n",
    "for i in range(len(deal_ymd)):\n",
    "    res = requests.post(url,data,headers,verify=False,timeout=10)\n",
    "    res.encoding='utf-8'\n",
    "    file_name = 'realestate_own' + deal_ymd[i] + '.json'\n",
    "    client.write(file_dir + file_name, json.dumps(res.json(),ensure_ascii=False), overwrite=True, encoding='utf-8')"
   ]
  },
  {
   "cell_type": "markdown",
   "id": "bfc1e0a2",
   "metadata": {},
   "source": [
    "## 매월 해당 데이터 추출 "
   ]
  },
  {
   "cell_type": "code",
   "execution_count": 33,
   "id": "ba3b0f3c",
   "metadata": {},
   "outputs": [],
   "source": [
    "def cal_std_month(before_month):\n",
    "    x = dt.datetime.now() - dt.timedelta(30*before_month) #현재날짜-지정날짜\n",
    "    year = x.year #연도\n",
    "    month = x.month if x.month >= 10 else '0'+ str(x.month) #월\n",
    "    return str(year) + str(month)"
   ]
  },
  {
   "cell_type": "code",
   "execution_count": 34,
   "id": "3f57fb69",
   "metadata": {},
   "outputs": [],
   "source": [
    "file_dir = '/project/'\n",
    "url = \"https://data.iros.go.kr/rp/ds/selectDatasetInqDetl.do\"\n",
    "service_key = '746cac395d3d43f2bc4ba51f1fe56a68'\n",
    "\n",
    "data={\n",
    "    'pageIndex':'1'\n",
    "    ,'sort_cond':''\n",
    "    ,'sort_ord':''\n",
    "    ,'ris_menu_seq':'0000000007'\n",
    "    ,'title':'%EB%B6%80%EB%8F%99%EC%82%B0 %EC%86%8C%EC%9C%A0%EA%B6%8C %EC%B7%A8%EB%93%9D%ED%98%84%ED%99%A9(%EC%A7%80%EC%97%AD%2C %EC%86%8C%EC%9C%A0%EC%9E%90%EB%B3%84)'\n",
    "    ,'search_date':cal_std_month(0)\n",
    "    ,'rdata_seq':'0000000252'\n",
    "    ,'search_type':'037001'\n",
    "    ,'search_word':'%EB%B6%80%EB%8F%99%EC%82%B0 %EC%86%8C%EC%9C%A0%EA%B6%8C %EC%B7%A8%EB%93%9D%ED%98%84%ED%99%A9'\n",
    "    ,'pagePerCount':'10'\n",
    "    ,'search_order':'031003'\n",
    "    ,'dts_prmm_ofr_yn':'Y'\n",
    "    ,'returnUrl':''\n",
    "    ,'search_regn_name':''\n",
    "    ,'search_year':''\n",
    "    ,'search_mon':''\n",
    "\n",
    "}\n",
    "\n",
    "headers={\n",
    "    'Content-Type':'application/x-www-form-urlencoded'\n",
    "    ,'-User-Agent':'PostmanRuntime/7.29.2'\n",
    "    ,'Accept':'*/*'\n",
    "    ,'Accept-Encoding':'gzip, deflate, br'\n",
    "    ,'Connection':'keep-alive'\n",
    "}\n",
    "    "
   ]
  },
  {
   "cell_type": "code",
   "execution_count": 22,
   "id": "f35dd733",
   "metadata": {},
   "outputs": [
    {
     "name": "stderr",
     "output_type": "stream",
     "text": [
      "/home/big/.local/lib/python3.8/site-packages/urllib3/connectionpool.py:1045: InsecureRequestWarning: Unverified HTTPS request is being made to host 'data.iros.go.kr'. Adding certificate verification is strongly advised. See: https://urllib3.readthedocs.io/en/1.26.x/advanced-usage.html#ssl-warnings\n",
      "  warnings.warn(\n"
     ]
    }
   ],
   "source": [
    "\n",
    "\n",
    "res = requests.post(url,data,headers,verify=False,timeout=15)\n",
    "file_name = 'realestate' + data['search_date'] + '.json'\n",
    "client.write(file_dir + file_name, json.dumps(res.json(),ensure_ascii=False), overwrite=True, encoding='utf-8')\n"
   ]
  },
  {
   "cell_type": "code",
   "execution_count": 36,
   "id": "b47ecd9d",
   "metadata": {},
   "outputs": [
    {
     "name": "stderr",
     "output_type": "stream",
     "text": [
      "/home/big/.local/lib/python3.8/site-packages/urllib3/connectionpool.py:1045: InsecureRequestWarning: Unverified HTTPS request is being made to host 'data.iros.go.kr'. Adding certificate verification is strongly advised. See: https://urllib3.readthedocs.io/en/1.26.x/advanced-usage.html#ssl-warnings\n",
      "  warnings.warn(\n"
     ]
    }
   ],
   "source": [
    "def realesstate_to_hdfs(client, file_dir, url, data, headers):\n",
    "    res = requests.post(url,data,headers,verify=False,timeout=10)\n",
    "    file_name = 'realestate_regi' + data['search_date'] + '.json'\n",
    "    client.write(file_dir + file_name, json.dumps(res.json()),overwrite=True, encoding='utf-8')\n",
    "\n",
    "realesstate_to_hdfs(client, file_dir, url, data, headers)"
   ]
  }
 ],
 "metadata": {
  "kernelspec": {
   "display_name": "Python 3 (ipykernel)",
   "language": "python",
   "name": "python3"
  },
  "language_info": {
   "codemirror_mode": {
    "name": "ipython",
    "version": 3
   },
   "file_extension": ".py",
   "mimetype": "text/x-python",
   "name": "python",
   "nbconvert_exporter": "python",
   "pygments_lexer": "ipython3",
   "version": "3.8.10"
  }
 },
 "nbformat": 4,
 "nbformat_minor": 5
}
