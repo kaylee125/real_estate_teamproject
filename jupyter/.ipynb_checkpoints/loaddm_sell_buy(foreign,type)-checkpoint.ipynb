{
 "cells": [
  {
   "cell_type": "code",
   "execution_count": 1,
   "id": "6fe75302",
   "metadata": {},
   "outputs": [],
   "source": [
    "import json\n",
    "import datetime as dt\n",
    "import pandas as pd\n",
    "from pyspark.sql.functions import col, monotonically_increasing_id, row_number\n",
    "from pyspark.sql.window import Window\n",
    "from pyspark.sql.types import *"
   ]
  },
  {
   "cell_type": "code",
   "execution_count": 2,
   "id": "85c65cb9",
   "metadata": {},
   "outputs": [],
   "source": [
    "JDBC_DW = {\n",
    "    'url':'jdbc:oracle:thin:@realestate_high?TNS_ADMIN=/home/big/study/db/Wallet_REALESTATE'\n",
    "    ,'props':{\n",
    "        'user':'dw_realestate'\n",
    "       ,'password':'123qwe!@#QWE'\n",
    "    }   \n",
    "}\n",
    "\n",
    "JDBC_DM = {\n",
    "    'url':'jdbc:oracle:thin:@realestate_high?TNS_ADMIN=/home/big/study/db/Wallet_REALESTATE'\n",
    "    ,'props':{\n",
    "        'user':'dm_realestate'\n",
    "       ,'password':'123qwe!@#QWE'\n",
    "    }   \n",
    "}"
   ]
  },
  {
   "cell_type": "markdown",
   "id": "08760495",
   "metadata": {},
   "source": [
    "### ACC_SELL_BUY_FOREIGN"
   ]
  },
  {
   "cell_type": "code",
   "execution_count": 6,
   "id": "3375e794",
   "metadata": {},
   "outputs": [],
   "source": [
    "foreigner = spark.read.jdbc(url=JDBC_DW['url'], table='OWN_FOREIGNER', properties=JDBC_DW['props'])"
   ]
  },
  {
   "cell_type": "code",
   "execution_count": 163,
   "id": "6cb52525",
   "metadata": {},
   "outputs": [
    {
     "name": "stderr",
     "output_type": "stream",
     "text": [
      "                                                                                \r"
     ]
    },
    {
     "name": "stdout",
     "output_type": "stream",
     "text": [
      "+------------+-------+--------+--------+\n",
      "|   FOREIGNER|BUY_TOT|BUY_RATE|ASBF_IDX|\n",
      "+------------+-------+--------+--------+\n",
      "|      러시아|      2|     3.5|       1|\n",
      "|      베트남|      4|     7.0|       2|\n",
      "|      필리핀|      1|     1.8|       3|\n",
      "|        기타|      2|     3.5|       4|\n",
      "|우즈베키스탄|      1|     1.8|       5|\n",
      "|        중국|     37|    64.9|       6|\n",
      "|      타이완|      2|     3.5|       7|\n",
      "|      캐나다|      1|     1.8|       8|\n",
      "|        미국|      5|     8.8|       9|\n",
      "|    뉴질랜드|      1|     1.8|      10|\n",
      "|    키르기즈|      1|     1.8|      11|\n",
      "+------------+-------+--------+--------+\n",
      "\n"
     ]
    }
   ],
   "source": [
    "foreigner.createOrReplaceTempView(\"foreigner\")\n",
    "own_foreigner = spark.sql(\"\"\"select BUYER_NATION as FOREIGNER, sum(TOT) as BUY_TOT , round((sum(TOT)/(select sum(TOT) from foreigner)*100),1) as BUY_RATE\n",
    "from foreigner group by BUYER_NATION\"\"\")\n",
    "own_foreigner = own_foreigner.withColumn('ASBF_IDX', row_number().over(Window.orderBy(monotonically_increasing_id())))\n",
    "own_foreigner.show()"
   ]
  },
  {
   "cell_type": "code",
   "execution_count": 152,
   "id": "89d63160",
   "metadata": {},
   "outputs": [
    {
     "name": "stderr",
     "output_type": "stream",
     "text": [
      "                                                                                \r"
     ]
    }
   ],
   "source": [
    "own_foreigner.write.jdbc(url=JDBC_DM['url'], table='ACC_SELL_BUY_FOREIGN', mode='append', properties=JDBC_DM['props'])"
   ]
  },
  {
   "cell_type": "markdown",
   "id": "b18d88b2",
   "metadata": {},
   "source": [
    "### SELL_BUY_FOREIGN_YEAR"
   ]
  },
  {
   "cell_type": "code",
   "execution_count": 214,
   "id": "1f7db9d1",
   "metadata": {},
   "outputs": [
    {
     "name": "stderr",
     "output_type": "stream",
     "text": [
      "[Stage 240:>                                                        (0 + 1) / 1]\r"
     ]
    },
    {
     "name": "stdout",
     "output_type": "stream",
     "text": [
      "+------------+-------+----+--------+\n",
      "|   FOREIGNER|BUY_TOT|YEAR|SBFY_IDX|\n",
      "+------------+-------+----+--------+\n",
      "|      러시아|      2|2022|       1|\n",
      "|      베트남|      4|2022|       2|\n",
      "|      필리핀|      1|2022|       3|\n",
      "|        기타|      2|2022|       4|\n",
      "|우즈베키스탄|      1|2022|       5|\n",
      "|        중국|     37|2022|       6|\n",
      "|      타이완|      2|2022|       7|\n",
      "|      캐나다|      1|2022|       8|\n",
      "|        미국|      5|2022|       9|\n",
      "|    뉴질랜드|      1|2022|      10|\n",
      "|    키르기즈|      1|2022|      11|\n",
      "+------------+-------+----+--------+\n",
      "\n"
     ]
    },
    {
     "name": "stderr",
     "output_type": "stream",
     "text": [
      "\r",
      "                                                                                \r"
     ]
    }
   ],
   "source": [
    "foreigner_year = spark.sql(\"\"\"select BUYER_NATION as FOREIGNER, SUM(TOT) AS BUY_TOT, (select year(res_date) from foreigner group by year(res_date)) as YEAR from foreigner group by BUYER_NATION\"\"\")\n",
    "foreigner_year = foreigner_year.withColumn('SBFY_IDX', row_number().over(Window.orderBy(monotonically_increasing_id())))\n",
    "foreigner_year.show()"
   ]
  },
  {
   "cell_type": "code",
   "execution_count": 215,
   "id": "0af1148b",
   "metadata": {},
   "outputs": [
    {
     "name": "stderr",
     "output_type": "stream",
     "text": [
      "                                                                                \r"
     ]
    }
   ],
   "source": [
    "foreigner_year.write.jdbc(url=JDBC_DM['url'], table='SELL_BUY_FOREIGN_YEAR', mode='append', properties=JDBC_DM['props'])"
   ]
  },
  {
   "cell_type": "markdown",
   "id": "49449310",
   "metadata": {},
   "source": [
    "### ACC_SELL_BUY_FOREIGNER_SIDO"
   ]
  },
  {
   "cell_type": "code",
   "execution_count": 225,
   "id": "24be3264",
   "metadata": {},
   "outputs": [
    {
     "name": "stderr",
     "output_type": "stream",
     "text": [
      "[Stage 289:>                                                        (0 + 1) / 1]\r"
     ]
    },
    {
     "name": "stdout",
     "output_type": "stream",
     "text": [
      "+------------+-------+-----+---------+\n",
      "|   FOREIGNER|BUY_TOT| REGN|ASBFS_IDX|\n",
      "+------------+-------+-----+---------+\n",
      "|        기타|      2|41000|        1|\n",
      "|    뉴질랜드|      1|11000|        2|\n",
      "|      러시아|      1|44000|        3|\n",
      "|      러시아|      1|41000|        4|\n",
      "|        미국|      1|11000|        5|\n",
      "|        미국|      1|26000|        6|\n",
      "|        미국|      3|41000|        7|\n",
      "|      베트남|      1|27000|        8|\n",
      "|      베트남|      1|47000|        9|\n",
      "|      베트남|      1|28000|       10|\n",
      "|      베트남|      1|41000|       11|\n",
      "|우즈베키스탄|      1|28000|       12|\n",
      "|        중국|     16|41000|       13|\n",
      "|        중국|      1|26000|       14|\n",
      "|        중국|      2|43000|       15|\n",
      "|        중국|      4|48000|       16|\n",
      "|        중국|      4|11000|       17|\n",
      "|        중국|      1|27000|       18|\n",
      "|        중국|      3|44000|       19|\n",
      "|        중국|      6|28000|       20|\n",
      "+------------+-------+-----+---------+\n",
      "only showing top 20 rows\n",
      "\n"
     ]
    },
    {
     "name": "stderr",
     "output_type": "stream",
     "text": [
      "\r",
      "                                                                                \r"
     ]
    }
   ],
   "source": [
    "foreigner_sido = spark.sql(\"\"\"select BUYER_NATION as FOREIGNER, sum(TOT) as BUY_TOT , RES_REGN_CODE as REGN\n",
    "from foreigner group by BUYER_NATION, RES_REGN_CODE order by FOREIGNER\"\"\")\n",
    "foreigner_sido = foreigner_sido.withColumn('ASBFS_IDX', row_number().over(Window.orderBy(monotonically_increasing_id())))\n",
    "foreigner_sido.show()"
   ]
  },
  {
   "cell_type": "code",
   "execution_count": 227,
   "id": "7bb586c6",
   "metadata": {},
   "outputs": [
    {
     "name": "stderr",
     "output_type": "stream",
     "text": [
      "                                                                                \r"
     ]
    }
   ],
   "source": [
    "foreigner_sido.write.jdbc(url=JDBC_DM['url'], table='ACC_SELL_BUY_FOREIGN_SIDO', mode='append', properties=JDBC_DM['props'])"
   ]
  },
  {
   "cell_type": "markdown",
   "id": "4e8e38da",
   "metadata": {},
   "source": [
    "### ACC_SELL_BUY_TYPE"
   ]
  },
  {
   "cell_type": "code",
   "execution_count": 3,
   "id": "594072f7",
   "metadata": {},
   "outputs": [],
   "source": [
    "types = spark.read.jdbc(url=JDBC_DW['url'], table='OWN_TYPE', properties=JDBC_DW['props'])\n",
    "types.createOrReplaceTempView(\"types\")"
   ]
  },
  {
   "cell_type": "code",
   "execution_count": 4,
   "id": "1cd5a816",
   "metadata": {
    "scrolled": true
   },
   "outputs": [
    {
     "name": "stderr",
     "output_type": "stream",
     "text": [
      "                                                                                \r"
     ]
    },
    {
     "name": "stdout",
     "output_type": "stream",
     "text": [
      "+------+-------------------+-------------+----+------------------------+\n",
      "|OT_IDX|           RES_DATE|RES_REGN_CODE| TOT|               OWNER_CLS|\n",
      "+------+-------------------+-------------+----+------------------------+\n",
      "|     1|2022-09-22 00:00:00|        42000| 577|                  내국인|\n",
      "|     2|2022-09-22 00:00:00|        42000|   4|                  외국인|\n",
      "|     3|2022-09-22 00:00:00|        42000|  32|                    법인|\n",
      "|     4|2022-09-22 00:00:00|        42000|   1|                  비법인|\n",
      "|     5|2022-09-22 00:00:00|        41000|1422|                  내국인|\n",
      "|     6|2022-09-22 00:00:00|        41000|   9|                  외국인|\n",
      "|     7|2022-09-22 00:00:00|        41000| 191|                    법인|\n",
      "|     8|2022-09-22 00:00:00|        41000|   1|국가기관 및 지방자치단체|\n",
      "|     9|2022-09-22 00:00:00|        41000|   1|                    기타|\n",
      "|    10|2022-09-22 00:00:00|        48000| 351|                  내국인|\n",
      "|    11|2022-09-22 00:00:00|        48000|  34|                    법인|\n",
      "|    12|2022-09-22 00:00:00|        47000| 304|                  내국인|\n",
      "|    13|2022-09-22 00:00:00|        47000|  75|                    법인|\n",
      "|    14|2022-09-22 00:00:00|        47000|  16|                  비법인|\n",
      "|    15|2022-09-22 00:00:00|        29000|  70|                  내국인|\n",
      "|    16|2022-09-22 00:00:00|        29000|   1|                  외국인|\n",
      "|    17|2022-09-22 00:00:00|        29000|  20|                    법인|\n",
      "|    18|2022-09-22 00:00:00|        27000| 104|                  내국인|\n",
      "|    19|2022-09-22 00:00:00|        27000|   4|                    법인|\n",
      "|    20|2022-09-22 00:00:00|        30000|  57|                  내국인|\n",
      "+------+-------------------+-------------+----+------------------------+\n",
      "only showing top 20 rows\n",
      "\n"
     ]
    }
   ],
   "source": [
    "types.show()"
   ]
  },
  {
   "cell_type": "code",
   "execution_count": 8,
   "id": "f8bb2a95",
   "metadata": {},
   "outputs": [
    {
     "name": "stderr",
     "output_type": "stream",
     "text": [
      "                                                                                \r"
     ]
    },
    {
     "name": "stdout",
     "output_type": "stream",
     "text": [
      "+------------------------+-------+--------+--------+\n",
      "|                     CLS|BUY_TOT|BUY_RATE|ASBT_IDX|\n",
      "+------------------------+-------+--------+--------+\n",
      "|                  외국인|     37|     0.7|       1|\n",
      "|                    기타|      1|     0.0|       2|\n",
      "|                  비법인|     49|     0.9|       3|\n",
      "|                  내국인|   4824|    85.7|       4|\n",
      "|                    법인|    707|    12.6|       5|\n",
      "|국가기관 및 지방자치단체|     12|     0.2|       6|\n",
      "+------------------------+-------+--------+--------+\n",
      "\n"
     ]
    }
   ],
   "source": [
    "own_type = spark.sql(\"\"\"select OWNER_CLS as CLS, sum(TOT) as BUY_TOT , round((sum(TOT)/(select sum(TOT) from types)*100),1) as BUY_RATE\n",
    "from types group by OWNER_CLS\"\"\")\n",
    "own_type = own_type.withColumn('ASBT_IDX', row_number().over(Window.orderBy(monotonically_increasing_id())))\n",
    "own_type.show()"
   ]
  },
  {
   "cell_type": "code",
   "execution_count": 9,
   "id": "144aacd2",
   "metadata": {},
   "outputs": [
    {
     "name": "stderr",
     "output_type": "stream",
     "text": [
      "                                                                                \r"
     ]
    }
   ],
   "source": [
    "own_type.write.jdbc(url=JDBC_DM['url'], table='ACC_SELL_BUY_TYPE', mode='append', properties=JDBC_DM['props'])"
   ]
  },
  {
   "cell_type": "markdown",
   "id": "745221c7",
   "metadata": {},
   "source": [
    "### SELL_BUY_TYPE_YEAR"
   ]
  },
  {
   "cell_type": "code",
   "execution_count": 11,
   "id": "87571794",
   "metadata": {},
   "outputs": [
    {
     "name": "stderr",
     "output_type": "stream",
     "text": [
      "                                                                                \r"
     ]
    },
    {
     "name": "stdout",
     "output_type": "stream",
     "text": [
      "+------------------------+-------+----+--------+\n",
      "|                     CLS|BUY_TOT|YEAR|SBTY_IDX|\n",
      "+------------------------+-------+----+--------+\n",
      "|                  외국인|     37|2022|       1|\n",
      "|                    기타|      1|2022|       2|\n",
      "|                  비법인|     49|2022|       3|\n",
      "|                  내국인|   4824|2022|       4|\n",
      "|                    법인|    707|2022|       5|\n",
      "|국가기관 및 지방자치단체|     12|2022|       6|\n",
      "+------------------------+-------+----+--------+\n",
      "\n"
     ]
    }
   ],
   "source": [
    "type_year = spark.sql(\"\"\"select OWNER_CLS as CLS, SUM(TOT) AS BUY_TOT, (select year(res_date) from types group by year(res_date)) as YEAR from types group by OWNER_CLS\"\"\")\n",
    "type_year = type_year.withColumn('SBTY_IDX', row_number().over(Window.orderBy(monotonically_increasing_id())))\n",
    "type_year.show()"
   ]
  },
  {
   "cell_type": "code",
   "execution_count": 12,
   "id": "6e17da74",
   "metadata": {},
   "outputs": [
    {
     "name": "stderr",
     "output_type": "stream",
     "text": [
      "                                                                                \r"
     ]
    }
   ],
   "source": [
    "type_year.write.jdbc(url=JDBC_DM['url'], table='SELL_BUY_TYPE_YEAR', mode='append', properties=JDBC_DM['props'])"
   ]
  },
  {
   "cell_type": "markdown",
   "id": "76b79c53",
   "metadata": {},
   "source": [
    "### ACC_SELL_BUY_TYPE_SIDO"
   ]
  },
  {
   "cell_type": "code",
   "execution_count": 14,
   "id": "d3e811ba",
   "metadata": {},
   "outputs": [
    {
     "name": "stderr",
     "output_type": "stream",
     "text": [
      "[Stage 44:>                                                         (0 + 1) / 1]\r"
     ]
    },
    {
     "name": "stdout",
     "output_type": "stream",
     "text": [
      "+------------------------+-------+-----+---------+\n",
      "|                     CLS|BUY_TOT| REGN|ASBTS_IDX|\n",
      "+------------------------+-------+-----+---------+\n",
      "|국가기관 및 지방자치단체|      1|41000|        1|\n",
      "|국가기관 및 지방자치단체|      1|45000|        2|\n",
      "|국가기관 및 지방자치단체|      2|31000|        3|\n",
      "|국가기관 및 지방자치단체|      3|43000|        4|\n",
      "|국가기관 및 지방자치단체|      5|46000|        5|\n",
      "|                    기타|      1|41000|        6|\n",
      "|                  내국인|    229|45000|        7|\n",
      "|                  내국인|     34|36110|        8|\n",
      "|                  내국인|    261|11000|        9|\n",
      "|                  내국인|     70|29000|       10|\n",
      "|                  내국인|    211|28000|       11|\n",
      "|                  내국인|    180|43000|       12|\n",
      "|                  내국인|     57|30000|       13|\n",
      "|                  내국인|    444|46000|       14|\n",
      "|                  내국인|    304|47000|       15|\n",
      "|                  내국인|    577|42000|       16|\n",
      "|                  내국인|    262|44000|       17|\n",
      "|                  내국인|   1422|41000|       18|\n",
      "|                  내국인|     47|31000|       19|\n",
      "|                  내국인|    183|26000|       20|\n",
      "+------------------------+-------+-----+---------+\n",
      "only showing top 20 rows\n",
      "\n"
     ]
    },
    {
     "name": "stderr",
     "output_type": "stream",
     "text": [
      "\r",
      "                                                                                \r"
     ]
    }
   ],
   "source": [
    "type_sido = spark.sql(\"\"\"select OWNER_CLS as CLS, sum(TOT) as BUY_TOT , RES_REGN_CODE as REGN\n",
    "from types group by OWNER_CLS, RES_REGN_CODE order by CLS\"\"\")\n",
    "type_sido = type_sido.withColumn('ASBTS_IDX', row_number().over(Window.orderBy(monotonically_increasing_id())))\n",
    "type_sido.show()"
   ]
  },
  {
   "cell_type": "code",
   "execution_count": 15,
   "id": "e1446cd1",
   "metadata": {},
   "outputs": [
    {
     "name": "stderr",
     "output_type": "stream",
     "text": [
      "                                                                                \r"
     ]
    }
   ],
   "source": [
    "type_sido.write.jdbc(url=JDBC_DM['url'], table='ACC_SELL_BUY_TYPE_SIDO', mode='append', properties=JDBC_DM['props'])"
   ]
  }
 ],
 "metadata": {
  "kernelspec": {
   "display_name": "Python 3 (ipykernel)",
   "language": "python",
   "name": "python3"
  },
  "language_info": {
   "codemirror_mode": {
    "name": "ipython",
    "version": 3
   },
   "file_extension": ".py",
   "mimetype": "text/x-python",
   "name": "python",
   "nbconvert_exporter": "python",
   "pygments_lexer": "ipython3",
   "version": "3.8.10"
  }
 },
 "nbformat": 4,
 "nbformat_minor": 5
}
