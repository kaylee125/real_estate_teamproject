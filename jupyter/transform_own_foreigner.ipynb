{
 "cells": [
  {
   "cell_type": "code",
   "execution_count": null,
   "id": "02bb9f0a",
   "metadata": {},
   "outputs": [],
   "source": [
    "import json\n",
    "import datetime as dt\n",
    "import pandas as pd\n",
    "from pyspark.sql.functions import col, monotonically_increasing_id, row_number\n",
    "from pyspark.sql.window import Window\n",
    "from pyspark.sql.types import *"
   ]
  },
  {
   "cell_type": "code",
   "execution_count": 2,
   "id": "31bb6b6e",
   "metadata": {},
   "outputs": [],
   "source": [
    "JDBC = {\n",
    "    'url':'jdbc:oracle:thin:@realestate_high?TNS_ADMIN=/home/big/study/db/Wallet_REALESTATE'\n",
    "    ,'props':{\n",
    "        'user':'dw_realestate',\n",
    "        'password':'123qwe!@#QWE'\n",
    "    }   \n",
    "}"
   ]
  },
  {
   "cell_type": "code",
   "execution_count": 3,
   "id": "fbc70b7b",
   "metadata": {},
   "outputs": [],
   "source": [
    "from enum import Enum\n",
    "\n",
    "# 데이터웨어하우스 ENUM\n",
    "class DataWarehouse(Enum):\n",
    "    URL='jdbc:oracle:thin:@realestate_high?TNS_ADMIN=/home/big/study/db/Wallet_REALESTATE'\n",
    "    PROPS={\n",
    "        'user':'dw_realestate',\n",
    "        'password':'123qwe!@#QWE'\n",
    "    }"
   ]
  },
  {
   "cell_type": "code",
   "execution_count": 4,
   "id": "779493fe",
   "metadata": {},
   "outputs": [],
   "source": [
    "def cal_std_day(befor_day):   \n",
    "    x = dt.datetime.now() - dt.timedelta(befor_day)\n",
    "    year = x.year\n",
    "    month = x.month if x.month >= 10 else '0'+ str(x.month)\n",
    "    day = x.day if x.day >= 10 else '0'+ str(x.day)  \n",
    "    return str(year) +str(month) +str(day)"
   ]
  },
  {
   "cell_type": "code",
   "execution_count": 5,
   "id": "a9dcddd1",
   "metadata": {},
   "outputs": [],
   "source": [
    "# 데이터웨어하우스, 데이터마트에 저장하기 위한 함수\n",
    "def save_data(config, dataframe, table_name):\n",
    "    dataframe.write.jdbc(url=config.URL.value,\n",
    "                        table=table_name,\n",
    "                        mode='append',\n",
    "                        properties=config.PROPS.value)\n",
    "\n",
    "# 데이터웨어하우스, 데이터마트에 덮어쓰기 위한 함수\n",
    "def overwrite_data(config, dataframe, table_name):\n",
    "    dataframe.write.jdbc(url=config.URL.value,\n",
    "                        table=table_name,\n",
    "                        mode='overwrite',\n",
    "                        properties=config.PROPS.value)\n",
    "\n",
    "# 데이터웨어하우스, 데이터마트에서 데이터 가져오기 위한 함수\n",
    "def find_data(config, table_name):\n",
    "    return spark.read.jdbc(url=config.URL.value,\n",
    "                                        table=table_name,\n",
    "                                        properties=config.PROPS.value)"
   ]
  },
  {
   "cell_type": "code",
   "execution_count": 6,
   "id": "9ea55772",
   "metadata": {},
   "outputs": [
    {
     "name": "stderr",
     "output_type": "stream",
     "text": [
      "                                                                                \r"
     ]
    },
    {
     "name": "stdout",
     "output_type": "stream",
     "text": [
      "+--------+---------+------------+----------+--------+\n",
      "|LOC_CODE|SIDO_CODE|SIGUNGU_CODE|      SIDO| SIGUNGU|\n",
      "+--------+---------+------------+----------+--------+\n",
      "|   27170|       27|         170|대구광역시|    서구|\n",
      "|   27200|       27|         200|대구광역시|    남구|\n",
      "|   30200|       30|         200|대전광역시|  유성구|\n",
      "|   27140|       27|         140|대구광역시|    동구|\n",
      "|   26000|       26|         000|부산광역시|    null|\n",
      "|   26110|       26|         110|부산광역시|    중구|\n",
      "|   26140|       26|         140|부산광역시|    서구|\n",
      "|   26170|       26|         170|부산광역시|    동구|\n",
      "|   26200|       26|         200|부산광역시|  영도구|\n",
      "|   26230|       26|         230|부산광역시|부산진구|\n",
      "|   26260|       26|         260|부산광역시|  동래구|\n",
      "|   26290|       26|         290|부산광역시|    남구|\n",
      "|   26320|       26|         320|부산광역시|    북구|\n",
      "|   26350|       26|         350|부산광역시|해운대구|\n",
      "|   26380|       26|         380|부산광역시|  사하구|\n",
      "|   26410|       26|         410|부산광역시|  금정구|\n",
      "|   26440|       26|         440|부산광역시|  강서구|\n",
      "|   26470|       26|         470|부산광역시|  연제구|\n",
      "|   26500|       26|         500|부산광역시|  수영구|\n",
      "|   26530|       26|         530|부산광역시|  사상구|\n",
      "+--------+---------+------------+----------+--------+\n",
      "only showing top 20 rows\n",
      "\n"
     ]
    }
   ],
   "source": [
    "df_loc = find_data(DataWarehouse, 'LOC')\n",
    "df_loc.show()"
   ]
  },
  {
   "cell_type": "code",
   "execution_count": 7,
   "id": "1019bc37",
   "metadata": {},
   "outputs": [
    {
     "name": "stderr",
     "output_type": "stream",
     "text": [
      "                                                                                \r"
     ]
    },
    {
     "name": "stdout",
     "output_type": "stream",
     "text": [
      "+--------------+--------+\n",
      "|          SIDO|LOC_CODE|\n",
      "+--------------+--------+\n",
      "|    부산광역시|   26000|\n",
      "|    대구광역시|   27000|\n",
      "|    인천광역시|   28000|\n",
      "|    광주광역시|   29000|\n",
      "|    대전광역시|   30000|\n",
      "|    울산광역시|   31000|\n",
      "|세종특별자치시|   36110|\n",
      "|        경기도|   41000|\n",
      "|        강원도|   42000|\n",
      "|      충청북도|   43000|\n",
      "|      충청남도|   44000|\n",
      "|      전라북도|   45000|\n",
      "|      전라남도|   46000|\n",
      "|      경상북도|   47000|\n",
      "|      경상남도|   48000|\n",
      "|    서울특별시|   11000|\n",
      "|제주특별자치도|   50000|\n",
      "+--------------+--------+\n",
      "\n"
     ]
    }
   ],
   "source": [
    "loc_code = df_loc.select(['SIDO','LOC_CODE']).filter(df_loc.SIGUNGU.isNull()).collect()\n",
    "df_loc_code = spark.createDataFrame(loc_code)\n",
    "df_loc_code.show()"
   ]
  },
  {
   "cell_type": "code",
   "execution_count": 9,
   "id": "f2ab37be",
   "metadata": {},
   "outputs": [
    {
     "name": "stderr",
     "output_type": "stream",
     "text": [
      "[Stage 7:>                                                          (0 + 1) / 1]\r"
     ]
    },
    {
     "name": "stdout",
     "output_type": "stream",
     "text": [
      "+---------------------+\n",
      "|               result|\n",
      "+---------------------+\n",
      "|{{APIINFO-0001, 정...|\n",
      "+---------------------+\n",
      "\n"
     ]
    },
    {
     "name": "stderr",
     "output_type": "stream",
     "text": [
      "\r",
      "                                                                                \r"
     ]
    }
   ],
   "source": [
    "file_name = '/realestate_data/nationality/nationality_data_'+cal_std_day(13)+'.json'\n",
    "tmp = spark.read.json(file_name, encoding='UTF-8')\n",
    "tmp.show()"
   ]
  },
  {
   "cell_type": "code",
   "execution_count": 10,
   "id": "9a604545",
   "metadata": {
    "scrolled": true
   },
   "outputs": [
    {
     "name": "stdout",
     "output_type": "stream",
     "text": [
      "root\n",
      " |-- result: struct (nullable = true)\n",
      " |    |-- head: struct (nullable = true)\n",
      " |    |    |-- returnCode: string (nullable = true)\n",
      " |    |    |-- returnMessage: string (nullable = true)\n",
      " |    |    |-- totalCount: string (nullable = true)\n",
      " |    |-- items: struct (nullable = true)\n",
      " |    |    |-- item: array (nullable = true)\n",
      " |    |    |    |-- element: struct (containsNull = true)\n",
      " |    |    |    |    |-- adminRegn1Name: string (nullable = true)\n",
      " |    |    |    |    |-- adminRegn2Name: string (nullable = true)\n",
      " |    |    |    |    |-- nationalName: string (nullable = true)\n",
      " |    |    |    |    |-- resDate: string (nullable = true)\n",
      " |    |    |    |    |-- tot: string (nullable = true)\n",
      "\n"
     ]
    }
   ],
   "source": [
    "tmp.printSchema()"
   ]
  },
  {
   "cell_type": "code",
   "execution_count": 11,
   "id": "6e2f3f1a",
   "metadata": {},
   "outputs": [
    {
     "name": "stderr",
     "output_type": "stream",
     "text": [
      "                                                                                \r"
     ]
    },
    {
     "name": "stdout",
     "output_type": "stream",
     "text": [
      "+--------------+--------------+------------+----------+---+\n",
      "|adminRegn1Name|adminRegn2Name|nationalName|   resDate|tot|\n",
      "+--------------+--------------+------------+----------+---+\n",
      "|    서울특별시|              |    뉴질랜드|2022-09-23|  1|\n",
      "|    서울특별시|              |        미국|2022-09-23|  1|\n",
      "|    서울특별시|              |        중국|2022-09-23|  4|\n",
      "|    서울특별시|              |      타이완|2022-09-23|  1|\n",
      "|    서울특별시|              |      필리핀|2022-09-23|  1|\n",
      "|    부산광역시|              |        미국|2022-09-23|  1|\n",
      "|    부산광역시|              |        중국|2022-09-23|  1|\n",
      "|    대구광역시|              |      베트남|2022-09-23|  1|\n",
      "|    대구광역시|              |        중국|2022-09-23|  1|\n",
      "|    인천광역시|              |      베트남|2022-09-23|  1|\n",
      "|    인천광역시|              |우즈베키스탄|2022-09-23|  1|\n",
      "|    인천광역시|              |        중국|2022-09-23|  6|\n",
      "|    인천광역시|              |    키르기즈|2022-09-23|  1|\n",
      "|        경기도|              |      러시아|2022-09-23|  1|\n",
      "|        경기도|              |        미국|2022-09-23|  3|\n",
      "|        경기도|              |      베트남|2022-09-23|  1|\n",
      "|        경기도|              |        중국|2022-09-23| 16|\n",
      "|        경기도|              |        기타|2022-09-23|  2|\n",
      "|      충청북도|              |        중국|2022-09-23|  2|\n",
      "|      충청북도|              |      타이완|2022-09-23|  1|\n",
      "+--------------+--------------+------------+----------+---+\n",
      "only showing top 20 rows\n",
      "\n"
     ]
    }
   ],
   "source": [
    "tmp2 = tmp.select('result').first()\n",
    "df = spark.createDataFrame(tmp2)\n",
    "tmp3 = df.select('items').first()\n",
    "tmp4 = spark.createDataFrame(tmp3).first()\n",
    "df2 = spark.createDataFrame(tmp4['item'])\n",
    "df2.show()"
   ]
  },
  {
   "cell_type": "markdown",
   "id": "66290f62",
   "metadata": {},
   "source": [
    "OF_IDX \n",
    "\n",
    "RES_DATE \n",
    "\n",
    "RES_REGN_CODE \n",
    "\n",
    "BUYER_NATION \n",
    "\n",
    "TOT"
   ]
  },
  {
   "cell_type": "code",
   "execution_count": 12,
   "id": "a94daec6",
   "metadata": {},
   "outputs": [
    {
     "name": "stdout",
     "output_type": "stream",
     "text": [
      "+----------+----------+------------+---+\n",
      "|      SIDO|  RES_DATE|BUYER_NATION|TOT|\n",
      "+----------+----------+------------+---+\n",
      "|서울특별시|2022-09-23|    뉴질랜드|  1|\n",
      "|서울특별시|2022-09-23|        미국|  1|\n",
      "|서울특별시|2022-09-23|        중국|  4|\n",
      "|서울특별시|2022-09-23|      타이완|  1|\n",
      "|서울특별시|2022-09-23|      필리핀|  1|\n",
      "|부산광역시|2022-09-23|        미국|  1|\n",
      "|부산광역시|2022-09-23|        중국|  1|\n",
      "|대구광역시|2022-09-23|      베트남|  1|\n",
      "|대구광역시|2022-09-23|        중국|  1|\n",
      "|인천광역시|2022-09-23|      베트남|  1|\n",
      "|인천광역시|2022-09-23|우즈베키스탄|  1|\n",
      "|인천광역시|2022-09-23|        중국|  6|\n",
      "|인천광역시|2022-09-23|    키르기즈|  1|\n",
      "|    경기도|2022-09-23|      러시아|  1|\n",
      "|    경기도|2022-09-23|        미국|  3|\n",
      "|    경기도|2022-09-23|      베트남|  1|\n",
      "|    경기도|2022-09-23|        중국| 16|\n",
      "|    경기도|2022-09-23|        기타|  2|\n",
      "|  충청북도|2022-09-23|        중국|  2|\n",
      "|  충청북도|2022-09-23|      타이완|  1|\n",
      "+----------+----------+------------+---+\n",
      "only showing top 20 rows\n",
      "\n"
     ]
    }
   ],
   "source": [
    "df_foreigner = df2.select(df2.adminRegn1Name.alias('SIDO'),df2.resDate.alias('RES_DATE'),df2.nationalName.alias('BUYER_NATION'),df2.tot.alias('TOT'))\n",
    "df_foreigner.show()"
   ]
  },
  {
   "cell_type": "code",
   "execution_count": 14,
   "id": "70b628df",
   "metadata": {
    "scrolled": true
   },
   "outputs": [
    {
     "name": "stderr",
     "output_type": "stream",
     "text": [
      "[Stage 26:>                                                         (0 + 1) / 1]\r"
     ]
    },
    {
     "name": "stdout",
     "output_type": "stream",
     "text": [
      "+-------------+---+------------+----------+------+\n",
      "|RES_REGN_CODE|TOT|BUYER_NATION|  RES_DATE|OF_IDX|\n",
      "+-------------+---+------------+----------+------+\n",
      "|        41000|  1|      러시아|2022-09-23|     1|\n",
      "|        41000|  3|        미국|2022-09-23|     2|\n",
      "|        41000|  1|      베트남|2022-09-23|     3|\n",
      "|        41000| 16|        중국|2022-09-23|     4|\n",
      "|        41000|  2|        기타|2022-09-23|     5|\n",
      "|        48000|  4|        중국|2022-09-23|     6|\n",
      "|        47000|  1|      베트남|2022-09-23|     7|\n",
      "|        27000|  1|      베트남|2022-09-23|     8|\n",
      "|        27000|  1|        중국|2022-09-23|     9|\n",
      "|        26000|  1|        미국|2022-09-23|    10|\n",
      "|        26000|  1|        중국|2022-09-23|    11|\n",
      "|        11000|  1|    뉴질랜드|2022-09-23|    12|\n",
      "|        11000|  1|        미국|2022-09-23|    13|\n",
      "|        11000|  4|        중국|2022-09-23|    14|\n",
      "|        11000|  1|      타이완|2022-09-23|    15|\n",
      "|        11000|  1|      필리핀|2022-09-23|    16|\n",
      "|        28000|  1|      베트남|2022-09-23|    17|\n",
      "|        28000|  1|우즈베키스탄|2022-09-23|    18|\n",
      "|        28000|  6|        중국|2022-09-23|    19|\n",
      "|        28000|  1|    키르기즈|2022-09-23|    20|\n",
      "+-------------+---+------------+----------+------+\n",
      "only showing top 20 rows\n",
      "\n"
     ]
    },
    {
     "name": "stderr",
     "output_type": "stream",
     "text": [
      "\r",
      "                                                                                \r"
     ]
    }
   ],
   "source": [
    "own_foreigner = df_foreigner.join(df_loc_code, on='SIDO')\n",
    "own_foreigner = own_foreigner.select(col('LOC_CODE').alias('RES_REGN_CODE'),col('TOT').cast('int'),col('BUYER_NATION'),col('RES_DATE').cast(DateType()))\n",
    "own_foreigner = own_foreigner.withColumn('OF_IDX', row_number().over(Window.orderBy(monotonically_increasing_id())))\n",
    "own_foreigner.show()"
   ]
  },
  {
   "cell_type": "code",
   "execution_count": 15,
   "id": "869c292e",
   "metadata": {},
   "outputs": [
    {
     "name": "stdout",
     "output_type": "stream",
     "text": [
      "root\n",
      " |-- RES_REGN_CODE: string (nullable = true)\n",
      " |-- TOT: integer (nullable = true)\n",
      " |-- BUYER_NATION: string (nullable = true)\n",
      " |-- RES_DATE: date (nullable = true)\n",
      " |-- OF_IDX: integer (nullable = false)\n",
      "\n"
     ]
    }
   ],
   "source": [
    "own_foreigner.printSchema()"
   ]
  },
  {
   "cell_type": "code",
   "execution_count": 16,
   "id": "749a2670",
   "metadata": {},
   "outputs": [
    {
     "name": "stderr",
     "output_type": "stream",
     "text": [
      "                                                                                \r"
     ]
    }
   ],
   "source": [
    "own_foreigner.write.jdbc(url=JDBC['url'], table='OWN_FOREIGNER', mode='append', properties=JDBC['props'])"
   ]
  },
  {
   "cell_type": "code",
   "execution_count": null,
   "id": "2f40910c",
   "metadata": {},
   "outputs": [],
   "source": []
  }
 ],
 "metadata": {
  "kernelspec": {
   "display_name": "Python 3 (ipykernel)",
   "language": "python",
   "name": "python3"
  },
  "language_info": {
   "codemirror_mode": {
    "name": "ipython",
    "version": 3
   },
   "file_extension": ".py",
   "mimetype": "text/x-python",
   "name": "python",
   "nbconvert_exporter": "python",
   "pygments_lexer": "ipython3",
   "version": "3.8.10"
  }
 },
 "nbformat": 4,
 "nbformat_minor": 5
}
