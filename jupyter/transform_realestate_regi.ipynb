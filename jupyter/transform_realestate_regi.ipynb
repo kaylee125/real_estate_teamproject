{
 "cells": [
  {
   "cell_type": "code",
   "execution_count": 1,
   "id": "6f8c0666",
   "metadata": {},
   "outputs": [],
   "source": [
    "from IPython.core.interactiveshell import InteractiveShell\n",
    "InteractiveShell.ast_node_interactivity = \"all\""
   ]
  },
  {
   "cell_type": "code",
   "execution_count": 29,
   "id": "ac74b146",
   "metadata": {},
   "outputs": [],
   "source": [
    "# !pip install matplotlib\n",
    "# !pip install pandas\n",
    "# !pip install pyspark\n",
    "# !pip install databricks-api"
   ]
  },
  {
   "cell_type": "code",
   "execution_count": 23,
   "id": "de8944e4",
   "metadata": {},
   "outputs": [],
   "source": [
    "from datetime import date, datetime\n",
    "from pyspark.sql import *\n",
    "from pyspark.sql.types import *\n",
    "from pyspark.sql.functions import *\n",
    "import datetime as dt\n",
    "import pandas as pd\n",
    "import matplotlib.pyplot as plt #그래프 패키지 모듈 등록\n",
    "%matplotlib inline \n",
    "from databricks_api import DatabricksAPI\n",
    "import requests\n",
    "import json\n",
    "import datetime as dt\n",
    "from hdfs import InsecureClient\n",
    "from pyspark.sql import SparkSession \n",
    "from pyspark.sql.functions import col, monotonically_increasing_id, row_number\n",
    "from pyspark.sql.window import Window\n",
    "from pyspark.sql.types import *\n",
    "\n",
    "import csv\n",
    "import sys\n",
    "import datetime"
   ]
  },
  {
   "cell_type": "code",
   "execution_count": 3,
   "id": "1bfbebae",
   "metadata": {},
   "outputs": [],
   "source": [
    "JDBC = {\n",
    "    'url':'jdbc:oracle:thin:@realestate_high?TNS_ADMIN=/home/big/study/db/Wallet_REALESTATE'\n",
    "    ,'props':{\n",
    "        'user':'dw_realestate',\n",
    "        'password':'123qwe!@#QWE'\n",
    "    }   \n",
    "}"
   ]
  },
  {
   "cell_type": "code",
   "execution_count": null,
   "id": "e1f22a9e",
   "metadata": {},
   "outputs": [],
   "source": [
    "#월 리스트 생성\n",
    "deal_y = ['201'+str(i) for i in range(7,10)]\n",
    "deal_y.append('2020')\n",
    "deal_y.append('2021')\n",
    "deal_y.append('2022')\n",
    "\n",
    "deal_ymd = []\n",
    "for year in deal_y:\n",
    "        for m in range(1,13):\n",
    "            if m < 10:\n",
    "                m = str(0) + str(m)\n",
    "            if year+str(m) > '202209' :\n",
    "                break\n",
    "            deal_ymd.append(year+str(m))\n",
    "\n",
    "deal_ymd=deal_ymd[1:]\n",
    "print(deal_ymd)"
   ]
  },
  {
   "cell_type": "code",
   "execution_count": 12,
   "id": "c19dee81",
   "metadata": {},
   "outputs": [],
   "source": [
    "from enum import Enum\n",
    "\n",
    "# 데이터웨어하우스 ENUM\n",
    "class DataWarehouse(Enum):\n",
    "    URL='jdbc:oracle:thin:@realestate_high?TNS_ADMIN=/home/big/study/db/Wallet_REALESTATE'\n",
    "    PROPS={\n",
    "        'user':'dw_realestate',\n",
    "        'password':'123qwe!@#QWE'\n",
    "    }"
   ]
  },
  {
   "cell_type": "code",
   "execution_count": 10,
   "id": "ad2b3f64",
   "metadata": {},
   "outputs": [],
   "source": [
    "# 데이터웨어하우스, 데이터마트에 저장하기 위한 함수\n",
    "def save_data(config, dataframe, table_name):\n",
    "    dataframe.write.jdbc(url=config.URL.value,\n",
    "                        table=table_name,\n",
    "                        mode='append',\n",
    "                        properties=config.PROPS.value)\n",
    "\n",
    "# 데이터웨어하우스, 데이터마트에 덮어쓰기 위한 함수\n",
    "def overwrite_data(config, dataframe, table_name):\n",
    "    dataframe.write.jdbc(url=config.URL.value,\n",
    "                        table=table_name,\n",
    "                        mode='overwrite',\n",
    "                        properties=config.PROPS.value)\n",
    "\n",
    "# 데이터웨어하우스, 데이터마트에서 데이터 가져오기 위한 함수\n",
    "def find_data(config, table_name):\n",
    "    return spark.read.jdbc(url=config.URL.value,\n",
    "                                        table=table_name,\n",
    "                                        properties=config.PROPS.value)"
   ]
  },
  {
   "cell_type": "code",
   "execution_count": 4,
   "id": "8dc66d2a",
   "metadata": {},
   "outputs": [],
   "source": [
    "from pyspark.sql import SparkSession \n",
    "spark = SparkSession \\\n",
    ".builder \\\n",
    ".master(\"local\") \\\n",
    ".appName(\"Python Spark SQL basic example\") \\\n",
    ".config(\"spark.some.config.option\", \"some-value\") \\\n",
    ".getOrCreate()"
   ]
  },
  {
   "cell_type": "code",
   "execution_count": null,
   "id": "55762e62",
   "metadata": {},
   "outputs": [],
   "source": [
    "#for문으로 매월 데이터 hdfs에서 읽어오기\n",
    "df_loc = find_data(DataWarehouse, 'LOC')\n",
    "\n",
    "for i in range(len(deal_ymd)):\n",
    "    path='realestate_own' + deal_ymd[i] + '.json'\n",
    "    realestate=spark.read.json(path,encoding='utf-8')\n",
    "\n",
    "    tmp2 = realestate.first()\n",
    "    realestate_df=spark.createDataFrame(tmp2[0]) \n",
    "    \n",
    "    df2_realestate=realestate_df.select(\n",
    "    realestate_df.admin_regn1_name.alias('REGN_CODE1'),\n",
    "    realestate_df.admin_regn2_name.alias('REGN_CODE2'),\n",
    "    realestate_df.age .alias('OWNER_AGES'),\n",
    "    realestate_df.appl_nomprs_num.alias('TOT'),\n",
    "    realestate_df.bs_ym.alias('RES_DATE'),\n",
    "    realestate_df.cd_name.alias('PROPERTY_TYPE'),\n",
    "    realestate_df.enr_no_cls_cd_name.alias('OWNER_CLS'),\n",
    "    realestate_df.rgs_aim_cd.alias('PURPOSE'),\n",
    "    realestate_df.sex.alias('OWNER_SEX'),)\n",
    "    \n",
    "    #LOC테이블과 join\n",
    "    cond = [df2_realestate.REGN_CODE1 == df_loc.SIDO, df2_realestate.REGN_CODE2 == df_loc.SIGUNGU]\n",
    "    # df2_realestate.join(df_loc, cond, 'outer').select(df.name, df3.age).collect()\n",
    "    df_real_loc=df2_realestate.join(df_loc, cond,'inner').select(df_loc.LOC_CODE.alias('REGN_CODE').cast('int'),df2_realestate.RES_DATE,df2_realestate.PROPERTY_TYPE,df2_realestate.PURPOSE,df2_realestate.OWNER_CLS,df2_realestate.OWNER_SEX,df2_realestate.OWNER_AGES,df2_realestate.TOT.cast('int')).show()\n",
    "\n",
    "    #DW로 보내기\n",
    "    df_real_loc.write.jdbc(url=JDBC['url'], table='REALESTATE_OWN', mode='append', properties=JDBC['props'])"
   ]
  },
  {
   "cell_type": "code",
   "execution_count": 6,
   "id": "536590f8",
   "metadata": {},
   "outputs": [
    {
     "name": "stderr",
     "output_type": "stream",
     "text": [
      "                                                                                \r"
     ]
    },
    {
     "data": {
      "text/plain": [
       "pyspark.sql.dataframe.DataFrame"
      ]
     },
     "execution_count": 6,
     "metadata": {},
     "output_type": "execute_result"
    },
    {
     "name": "stderr",
     "output_type": "stream",
     "text": [
      "                                                                                \r"
     ]
    },
    {
     "name": "stdout",
     "output_type": "stream",
     "text": [
      "+-----------------------------+\n",
      "|                     dataList|\n",
      "+-----------------------------+\n",
      "|[{서울특별시, 강남구, 19세...|\n",
      "+-----------------------------+\n",
      "\n"
     ]
    }
   ],
   "source": [
    "path='/project/realestate_own201701.json'\n",
    "realestate=spark.read.json(path,encoding='utf-8')\n",
    "type(realestate)\n",
    "realestate.show()"
   ]
  },
  {
   "cell_type": "code",
   "execution_count": 25,
   "id": "23c7b4af",
   "metadata": {},
   "outputs": [],
   "source": [
    "tmp2 = realestate.first()\n",
    "realestate_df=spark.createDataFrame(tmp2[0]) \n"
   ]
  },
  {
   "cell_type": "code",
   "execution_count": 26,
   "id": "0d35e48a",
   "metadata": {
    "scrolled": false
   },
   "outputs": [],
   "source": [
    "pd_realestate=realestate_df.toPandas()\n",
    "realestate_df=realestate_df.select(['admin_regn1_name','admin_regn2_name','age',\\\n",
    "                                    'appl_nomprs_num','bs_ym','cd_name','enr_no_cls_cd_name','rgs_aim_cd','sex'])\n",
    "#칼럼이름 변경\n",
    "# realestate_df.withColumnRenamed('admin_regn1_name','gender')\n",
    "# realestate_df.show()"
   ]
  },
  {
   "cell_type": "code",
   "execution_count": 36,
   "id": "f913fb83",
   "metadata": {},
   "outputs": [
    {
     "data": {
      "text/plain": [
       "14720"
      ]
     },
     "execution_count": 36,
     "metadata": {},
     "output_type": "execute_result"
    }
   ],
   "source": [
    "# realestate_df.printSchema()\n",
    "realestate_df.count()"
   ]
  },
  {
   "cell_type": "markdown",
   "id": "29e40471",
   "metadata": {},
   "source": [
    "admin_regn1_name 시도 REGN_CODE\n",
    "\n",
    "admin_regn2_name 시군구\n",
    "\n",
    "age 연령대 OWNER_AGES\n",
    "\n",
    "appl_nomprs_num 명의인수 TOT\n",
    "\n",
    "bs_ym 접수년월 RES_DATE\n",
    "\n",
    "cd_name 부동산구분 PROPERTY_TYPE\n",
    "\n",
    "enr_no_cls_cd 소유자 구분 코드\n",
    "\n",
    "enr_no_cls_cd_name 소유자 구분 OWNER_CLS\n",
    "\n",
    "rgs_aim_cd 등기목적 PURPOSE\n",
    "\n",
    "sex 성별 OWNER_SEX\n",
    "\n"
   ]
  },
  {
   "cell_type": "code",
   "execution_count": 13,
   "id": "c52aa5cd",
   "metadata": {},
   "outputs": [],
   "source": [
    "df_loc = find_data(DataWarehouse, 'LOC')\n",
    "# df_loc.show()"
   ]
  },
  {
   "cell_type": "code",
   "execution_count": 14,
   "id": "2e2982bb",
   "metadata": {},
   "outputs": [
    {
     "name": "stderr",
     "output_type": "stream",
     "text": [
      "                                                                                \r"
     ]
    }
   ],
   "source": [
    "df_loc=find_data(DataWarehouse, 'LOC')\n",
    "loc_code = df_loc.select(['SIDO','LOC_CODE']).collect()\n",
    "df_loc_code = spark.createDataFrame(loc_code)\n",
    "# df_loc_code.show()"
   ]
  },
  {
   "cell_type": "code",
   "execution_count": 16,
   "id": "87244a77",
   "metadata": {},
   "outputs": [],
   "source": [
    "#칼럼명 dw와 동일하게 변경\n",
    "df2_realestate=realestate_df.select(\n",
    "    realestate_df.admin_regn1_name.alias('REGN_CODE1'),\n",
    "    realestate_df.admin_regn2_name.alias('REGN_CODE2'),\n",
    "    realestate_df.age .alias('OWNER_AGES'),\n",
    "    realestate_df.appl_nomprs_num.alias('TOT'),\n",
    "    realestate_df.bs_ym.alias('RES_DATE'),\n",
    "    realestate_df.cd_name.alias('PROPERTY_TYPE'),\n",
    "    realestate_df.enr_no_cls_cd_name.alias('OWNER_CLS'),\n",
    "    realestate_df.rgs_aim_cd.alias('PURPOSE'),\n",
    "    realestate_df.sex.alias('OWNER_SEX'),)\n",
    "# df2_realestate.show()"
   ]
  },
  {
   "cell_type": "code",
   "execution_count": 17,
   "id": "eb4056ee",
   "metadata": {
    "scrolled": true
   },
   "outputs": [
    {
     "name": "stderr",
     "output_type": "stream",
     "text": [
      "[Stage 7:>                                                          (0 + 1) / 1]\r"
     ]
    },
    {
     "name": "stdout",
     "output_type": "stream",
     "text": [
      "+---------+--------+-------------+----------+------------------------+---------+----------+---+\n",
      "|REGN_CODE|RES_DATE|PROPERTY_TYPE|   PURPOSE|               OWNER_CLS|OWNER_SEX|OWNER_AGES|TOT|\n",
      "+---------+--------+-------------+----------+------------------------+---------+----------+---+\n",
      "|    31140|  201701|         토지|소유권이전|                    법인|     기타|      기타|131|\n",
      "|    31140|  201701|         토지|소유권이전|                  내국인|     여자| 70세 이상|  7|\n",
      "|    31140|  201701|         토지|소유권이전|                  내국인|     여자| 60세~69세| 16|\n",
      "|    31140|  201701|         토지|소유권이전|                  내국인|     여자| 50세~59세| 30|\n",
      "|    31140|  201701|         토지|소유권이전|                  내국인|     여자| 40세~49세| 24|\n",
      "|    31140|  201701|         토지|소유권이전|                  내국인|     여자| 30세~39세|  7|\n",
      "|    31140|  201701|         토지|소유권이전|                  내국인|     여자| 19세~29세|  2|\n",
      "|    31140|  201701|         토지|소유권이전|                  내국인|     남자| 70세 이상|  4|\n",
      "|    31140|  201701|         토지|소유권이전|                  내국인|     남자| 60세~69세| 16|\n",
      "|    31140|  201701|         토지|소유권이전|                  내국인|     남자| 50세~59세| 30|\n",
      "|    31140|  201701|         토지|소유권이전|                  내국인|     남자| 40세~49세| 40|\n",
      "|    31140|  201701|         토지|소유권이전|                  내국인|     남자| 30세~39세| 15|\n",
      "|    31140|  201701|         토지|소유권이전|                  내국인|     남자| 19세~29세|  4|\n",
      "|    31140|  201701|         토지|소유권이전|국가기관 및 지방자치단체|     기타|      기타| 37|\n",
      "|    31140|  201701|     집합건물|소유권이전|                  외국인|     여자| 30세~39세|  2|\n",
      "|    31140|  201701|     집합건물|소유권이전|                  외국인|     남자| 40세~49세|  1|\n",
      "|    31140|  201701|     집합건물|소유권이전|                    법인|     기타|      기타|109|\n",
      "|    31140|  201701|     집합건물|소유권이전|                  내국인|     여자| 70세 이상|  4|\n",
      "|    31140|  201701|     집합건물|소유권이전|                  내국인|     여자| 60세~69세| 25|\n",
      "|    31140|  201701|     집합건물|소유권이전|                  내국인|     여자| 50세~59세| 79|\n",
      "+---------+--------+-------------+----------+------------------------+---------+----------+---+\n",
      "only showing top 20 rows\n",
      "\n"
     ]
    },
    {
     "name": "stderr",
     "output_type": "stream",
     "text": [
      "\r",
      "                                                                                \r"
     ]
    }
   ],
   "source": [
    "#LOC테이블과 join\n",
    "cond = [df2_realestate.REGN_CODE1 == df_loc.SIDO, df2_realestate.REGN_CODE2 == df_loc.SIGUNGU]\n",
    "# df2_realestate.join(df_loc, cond, 'outer').select(df.name, df3.age).collect()\n",
    "df_real_loc=df2_realestate.join(df_loc, cond,'inner').select(df_loc.LOC_CODE.alias('REGN_CODE').cast('int'),df2_realestate.RES_DATE,df2_realestate.PROPERTY_TYPE,df2_realestate.PURPOSE,df2_realestate.OWNER_CLS,df2_realestate.OWNER_SEX,df2_realestate.OWNER_AGES,df2_realestate.TOT.cast('int')).show()\n"
   ]
  },
  {
   "cell_type": "code",
   "execution_count": 24,
   "id": "62b62fda",
   "metadata": {},
   "outputs": [
    {
     "ename": "AttributeError",
     "evalue": "'NoneType' object has no attribute 'write'",
     "output_type": "error",
     "traceback": [
      "\u001b[0;31m---------------------------------------------------------------------------\u001b[0m",
      "\u001b[0;31mAttributeError\u001b[0m                            Traceback (most recent call last)",
      "Input \u001b[0;32mIn [24]\u001b[0m, in \u001b[0;36m<cell line: 1>\u001b[0;34m()\u001b[0m\n\u001b[0;32m----> 1\u001b[0m \u001b[43mdf_real_loc\u001b[49m\u001b[38;5;241;43m.\u001b[39;49m\u001b[43mwrite\u001b[49m\u001b[38;5;241m.\u001b[39mjdbc(url\u001b[38;5;241m=\u001b[39mJDBC[\u001b[38;5;124m'\u001b[39m\u001b[38;5;124murl\u001b[39m\u001b[38;5;124m'\u001b[39m], \\\n\u001b[1;32m      2\u001b[0m                         table\u001b[38;5;241m=\u001b[39m\u001b[38;5;124m'\u001b[39m\u001b[38;5;124mREALESTATE_OWN\u001b[39m\u001b[38;5;124m'\u001b[39m, \\\n\u001b[1;32m      3\u001b[0m                         mode\u001b[38;5;241m=\u001b[39m\u001b[38;5;124m'\u001b[39m\u001b[38;5;124mappend\u001b[39m\u001b[38;5;124m'\u001b[39m, \\\n\u001b[1;32m      4\u001b[0m                         properties\u001b[38;5;241m=\u001b[39mJDBC[\u001b[38;5;124m'\u001b[39m\u001b[38;5;124mprops\u001b[39m\u001b[38;5;124m'\u001b[39m])\n",
      "\u001b[0;31mAttributeError\u001b[0m: 'NoneType' object has no attribute 'write'"
     ]
    }
   ],
   "source": [
    "df_real_loc.write.jdbc(url=JDBC['url'], \\\n",
    "                        table='REALESTATE_OWN', \\\n",
    "                        mode='append', \\\n",
    "                        properties=JDBC['props'])"
   ]
  },
  {
   "cell_type": "code",
   "execution_count": null,
   "id": "d659b0df",
   "metadata": {},
   "outputs": [],
   "source": []
  }
 ],
 "metadata": {
  "kernelspec": {
   "display_name": "Python 3 (ipykernel)",
   "language": "python",
   "name": "python3"
  },
  "language_info": {
   "codemirror_mode": {
    "name": "ipython",
    "version": 3
   },
   "file_extension": ".py",
   "mimetype": "text/x-python",
   "name": "python",
   "nbconvert_exporter": "python",
   "pygments_lexer": "ipython3",
   "version": "3.8.10"
  }
 },
 "nbformat": 4,
 "nbformat_minor": 5
}
