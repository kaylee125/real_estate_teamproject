{
 "cells": [
  {
   "cell_type": "code",
   "execution_count": 1,
   "id": "02bb9f0a",
   "metadata": {},
   "outputs": [],
   "source": [
    "import json\n",
    "import datetime as dt\n",
    "import pandas as pd\n",
    "from pyspark.sql.functions import col, monotonically_increasing_id, row_number\n",
    "from pyspark.sql.window import Window\n",
    "from pyspark.sql.types import *"
   ]
  },
  {
   "cell_type": "code",
   "execution_count": 2,
   "id": "f8dcb7b0",
   "metadata": {},
   "outputs": [],
   "source": [
    "JDBC = {\n",
    "    'url':'jdbc:oracle:thin:@realestate_high?TNS_ADMIN=/home/big/study/db/Wallet_REALESTATE'\n",
    "    ,'props':{\n",
    "        'user':'dw_realestate',\n",
    "        'password':'123qwe!@#QWE'\n",
    "    }   \n",
    "}"
   ]
  },
  {
   "cell_type": "code",
   "execution_count": 6,
   "id": "fbc70b7b",
   "metadata": {},
   "outputs": [],
   "source": [
    "from enum import Enum\n",
    "\n",
    "# 데이터웨어하우스 ENUM\n",
    "class DataWarehouse(Enum):\n",
    "    URL='jdbc:oracle:thin:@realestate_high?TNS_ADMIN=/home/big/study/db/Wallet_REALESTATE'\n",
    "    PROPS={\n",
    "        'user':'dw_realestate',\n",
    "        'password':'123qwe!@#QWE'\n",
    "    }"
   ]
  },
  {
   "cell_type": "code",
   "execution_count": 3,
   "id": "779493fe",
   "metadata": {},
   "outputs": [],
   "source": [
    "def cal_std_day(befor_day):   \n",
    "    x = dt.datetime.now() - dt.timedelta(befor_day)\n",
    "    year = x.year\n",
    "    month = x.month if x.month >= 10 else '0'+ str(x.month)\n",
    "    day = x.day if x.day >= 10 else '0'+ str(x.day)  \n",
    "    return str(year) +str(month) +str(day)"
   ]
  },
  {
   "cell_type": "code",
   "execution_count": 4,
   "id": "a9dcddd1",
   "metadata": {},
   "outputs": [],
   "source": [
    "# 데이터웨어하우스, 데이터마트에서 데이터 가져오기 위한 함수\n",
    "def find_data(config, table_name):\n",
    "    return spark.read.jdbc(url=config.URL.value,\n",
    "                                        table=table_name,\n",
    "                                        properties=config.PROPS.value)"
   ]
  },
  {
   "cell_type": "code",
   "execution_count": 7,
   "id": "1019bc37",
   "metadata": {
    "scrolled": true
   },
   "outputs": [
    {
     "name": "stderr",
     "output_type": "stream",
     "text": [
      "                                                                                \r"
     ]
    },
    {
     "name": "stdout",
     "output_type": "stream",
     "text": [
      "+--------------+--------+\n",
      "|          SIDO|LOC_CODE|\n",
      "+--------------+--------+\n",
      "|    부산광역시|   26000|\n",
      "|    대구광역시|   27000|\n",
      "|    인천광역시|   28000|\n",
      "|    광주광역시|   29000|\n",
      "|    대전광역시|   30000|\n",
      "|    울산광역시|   31000|\n",
      "|세종특별자치시|   36110|\n",
      "|        경기도|   41000|\n",
      "|        강원도|   42000|\n",
      "|      충청북도|   43000|\n",
      "|      충청남도|   44000|\n",
      "|      전라북도|   45000|\n",
      "|      전라남도|   46000|\n",
      "|      경상북도|   47000|\n",
      "|      경상남도|   48000|\n",
      "|    서울특별시|   11000|\n",
      "|제주특별자치도|   50000|\n",
      "+--------------+--------+\n",
      "\n"
     ]
    }
   ],
   "source": [
    "df_loc = find_data(DataWarehouse, 'LOC')\n",
    "loc_code = df_loc.select(['SIDO','LOC_CODE']).filter(df_loc.SIGUNGU.isNull()).collect()\n",
    "df_loc_code = spark.createDataFrame(loc_code)\n",
    "df_loc_code.show()"
   ]
  },
  {
   "cell_type": "code",
   "execution_count": 9,
   "id": "f2ab37be",
   "metadata": {},
   "outputs": [
    {
     "name": "stderr",
     "output_type": "stream",
     "text": [
      "                                                                                \r"
     ]
    }
   ],
   "source": [
    "for i in range(13,14):\n",
    "    path = '/realestate_data/local_foreigner_corp/local_foreigner_corp_data_'+cal_std_day(i)+'.json'\n",
    "    tmp = spark.read.json(path, encoding='UTF-8')"
   ]
  },
  {
   "cell_type": "code",
   "execution_count": 10,
   "id": "9373c627",
   "metadata": {},
   "outputs": [
    {
     "name": "stdout",
     "output_type": "stream",
     "text": [
      "root\n",
      " |-- result: struct (nullable = true)\n",
      " |    |-- head: struct (nullable = true)\n",
      " |    |    |-- returnCode: string (nullable = true)\n",
      " |    |    |-- returnMessage: string (nullable = true)\n",
      " |    |    |-- totalCount: string (nullable = true)\n",
      " |    |-- items: struct (nullable = true)\n",
      " |    |    |-- item: array (nullable = true)\n",
      " |    |    |    |-- element: struct (containsNull = true)\n",
      " |    |    |    |    |-- adminRegn1Name: string (nullable = true)\n",
      " |    |    |    |    |-- adminRegn2Name: string (nullable = true)\n",
      " |    |    |    |    |-- enrNoCls: string (nullable = true)\n",
      " |    |    |    |    |-- resDate: string (nullable = true)\n",
      " |    |    |    |    |-- tot: string (nullable = true)\n",
      "\n"
     ]
    }
   ],
   "source": [
    "tmp.printSchema()"
   ]
  },
  {
   "cell_type": "code",
   "execution_count": 20,
   "id": "6e2f3f1a",
   "metadata": {},
   "outputs": [
    {
     "name": "stderr",
     "output_type": "stream",
     "text": [
      "                                                                                \r"
     ]
    },
    {
     "name": "stdout",
     "output_type": "stream",
     "text": [
      "+--------------+--------------+--------+----------+---+\n",
      "|adminRegn1Name|adminRegn2Name|enrNoCls|   resDate|tot|\n",
      "+--------------+--------------+--------+----------+---+\n",
      "|    서울특별시|              |  내국인|2022-09-22|261|\n",
      "|    서울특별시|              |  외국인|2022-09-22|  3|\n",
      "|    서울특별시|              |    법인|2022-09-22| 68|\n",
      "|    서울특별시|              |  비법인|2022-09-22|  3|\n",
      "|    부산광역시|              |  내국인|2022-09-22|183|\n",
      "|    부산광역시|              |    법인|2022-09-22| 43|\n",
      "|    부산광역시|              |  비법인|2022-09-22|  8|\n",
      "|    대구광역시|              |  내국인|2022-09-22|104|\n",
      "|    대구광역시|              |    법인|2022-09-22|  4|\n",
      "|    인천광역시|              |  내국인|2022-09-22|211|\n",
      "|    인천광역시|              |  외국인|2022-09-22|  5|\n",
      "|    인천광역시|              |    법인|2022-09-22| 28|\n",
      "|    인천광역시|              |  비법인|2022-09-22|  4|\n",
      "|    광주광역시|              |  내국인|2022-09-22| 70|\n",
      "|    광주광역시|              |  외국인|2022-09-22|  1|\n",
      "|    광주광역시|              |    법인|2022-09-22| 20|\n",
      "|    대전광역시|              |  내국인|2022-09-22| 57|\n",
      "|    대전광역시|              |    법인|2022-09-22|  3|\n",
      "|    울산광역시|              |  내국인|2022-09-22| 47|\n",
      "|    울산광역시|              |    법인|2022-09-22|  3|\n",
      "+--------------+--------------+--------+----------+---+\n",
      "only showing top 20 rows\n",
      "\n"
     ]
    }
   ],
   "source": [
    "tmp2 = tmp.select('result').first()\n",
    "df = spark.createDataFrame(tmp2)\n",
    "tmp3 = df.select('items').first()\n",
    "tmp4 = spark.createDataFrame(tmp3).first()\n",
    "df2 = spark.createDataFrame(tmp4['item'])\n",
    "df2.show()"
   ]
  },
  {
   "cell_type": "markdown",
   "id": "66290f62",
   "metadata": {},
   "source": [
    "OT_IDX \n",
    "\n",
    "RES_DATE\n",
    "\n",
    "RES_REGN_CODE\n",
    "\n",
    "OWNER_CLS\n",
    "\n",
    "TOT"
   ]
  },
  {
   "cell_type": "code",
   "execution_count": 21,
   "id": "a94daec6",
   "metadata": {},
   "outputs": [
    {
     "name": "stderr",
     "output_type": "stream",
     "text": [
      "\r",
      "[Stage 13:>                                                         (0 + 1) / 1]\r",
      "\r",
      "                                                                                \r"
     ]
    },
    {
     "name": "stdout",
     "output_type": "stream",
     "text": [
      "+----------+----------+---------+---+\n",
      "|      SIDO|  RES_DATE|OWNER_CLS|TOT|\n",
      "+----------+----------+---------+---+\n",
      "|서울특별시|2022-09-22|   내국인|261|\n",
      "|서울특별시|2022-09-22|   외국인|  3|\n",
      "|서울특별시|2022-09-22|     법인| 68|\n",
      "|서울특별시|2022-09-22|   비법인|  3|\n",
      "|부산광역시|2022-09-22|   내국인|183|\n",
      "|부산광역시|2022-09-22|     법인| 43|\n",
      "|부산광역시|2022-09-22|   비법인|  8|\n",
      "|대구광역시|2022-09-22|   내국인|104|\n",
      "|대구광역시|2022-09-22|     법인|  4|\n",
      "|인천광역시|2022-09-22|   내국인|211|\n",
      "|인천광역시|2022-09-22|   외국인|  5|\n",
      "|인천광역시|2022-09-22|     법인| 28|\n",
      "|인천광역시|2022-09-22|   비법인|  4|\n",
      "|광주광역시|2022-09-22|   내국인| 70|\n",
      "|광주광역시|2022-09-22|   외국인|  1|\n",
      "|광주광역시|2022-09-22|     법인| 20|\n",
      "|대전광역시|2022-09-22|   내국인| 57|\n",
      "|대전광역시|2022-09-22|     법인|  3|\n",
      "|울산광역시|2022-09-22|   내국인| 47|\n",
      "|울산광역시|2022-09-22|     법인|  3|\n",
      "+----------+----------+---------+---+\n",
      "only showing top 20 rows\n",
      "\n"
     ]
    }
   ],
   "source": [
    "df_type = df2.select(df2.adminRegn1Name.alias('SIDO'),df2.resDate.alias('RES_DATE'),df2.enrNoCls.alias('OWNER_CLS'),df2.tot.alias('TOT'))\n",
    "df_type.show()"
   ]
  },
  {
   "cell_type": "code",
   "execution_count": 22,
   "id": "70b628df",
   "metadata": {
    "scrolled": true
   },
   "outputs": [
    {
     "name": "stderr",
     "output_type": "stream",
     "text": [
      "                                                                                \r"
     ]
    },
    {
     "name": "stdout",
     "output_type": "stream",
     "text": [
      "+-------------+----+------------------------+----------+------+\n",
      "|RES_REGN_CODE| TOT|               OWNER_CLS|  RES_DATE|OT_IDX|\n",
      "+-------------+----+------------------------+----------+------+\n",
      "|        42000| 577|                  내국인|2022-09-22|     1|\n",
      "|        42000|   4|                  외국인|2022-09-22|     2|\n",
      "|        42000|  32|                    법인|2022-09-22|     3|\n",
      "|        42000|   1|                  비법인|2022-09-22|     4|\n",
      "|        41000|   1|                    기타|2022-09-22|     5|\n",
      "|        41000|1422|                  내국인|2022-09-22|     6|\n",
      "|        41000|   9|                  외국인|2022-09-22|     7|\n",
      "|        41000| 191|                    법인|2022-09-22|     8|\n",
      "|        41000|   1|국가기관 및 지방자치단체|2022-09-22|     9|\n",
      "|        48000| 351|                  내국인|2022-09-22|    10|\n",
      "|        48000|  34|                    법인|2022-09-22|    11|\n",
      "|        47000| 304|                  내국인|2022-09-22|    12|\n",
      "|        47000|  75|                    법인|2022-09-22|    13|\n",
      "|        47000|  16|                  비법인|2022-09-22|    14|\n",
      "|        29000|  70|                  내국인|2022-09-22|    15|\n",
      "|        29000|   1|                  외국인|2022-09-22|    16|\n",
      "|        29000|  20|                    법인|2022-09-22|    17|\n",
      "|        27000| 104|                  내국인|2022-09-22|    18|\n",
      "|        27000|   4|                    법인|2022-09-22|    19|\n",
      "|        30000|  57|                  내국인|2022-09-22|    20|\n",
      "+-------------+----+------------------------+----------+------+\n",
      "only showing top 20 rows\n",
      "\n"
     ]
    }
   ],
   "source": [
    "own_type = df_type.join(df_loc_code, on='SIDO')\n",
    "own_type = own_type.select(col('LOC_CODE').alias('RES_REGN_CODE'),col('TOT').cast('int'),col('OWNER_CLS'),col('RES_DATE').cast(DateType()))\n",
    "own_type = own_type.withColumn('OT_IDX', row_number().over(Window.orderBy(monotonically_increasing_id())))\n",
    "own_type.show()"
   ]
  },
  {
   "cell_type": "code",
   "execution_count": 24,
   "id": "2f40910c",
   "metadata": {},
   "outputs": [
    {
     "name": "stderr",
     "output_type": "stream",
     "text": [
      "                                                                                \r"
     ]
    }
   ],
   "source": [
    "own_type.write.jdbc(url=JDBC['url'], table='OWN_TYPE', mode='append', properties=JDBC['props'])"
   ]
  }
 ],
 "metadata": {
  "kernelspec": {
   "display_name": "Python 3 (ipykernel)",
   "language": "python",
   "name": "python3"
  },
  "language_info": {
   "codemirror_mode": {
    "name": "ipython",
    "version": 3
   },
   "file_extension": ".py",
   "mimetype": "text/x-python",
   "name": "python",
   "nbconvert_exporter": "python",
   "pygments_lexer": "ipython3",
   "version": "3.8.10"
  }
 },
 "nbformat": 4,
 "nbformat_minor": 5
}
