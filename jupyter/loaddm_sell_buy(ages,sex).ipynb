{
 "cells": [
  {
   "cell_type": "code",
   "execution_count": 7,
   "id": "6fe75302",
   "metadata": {},
   "outputs": [],
   "source": [
    "import json\n",
    "import datetime as dt\n",
    "import pandas as pd\n",
    "from pyspark.sql.functions import col, monotonically_increasing_id, row_number\n",
    "from pyspark.sql.window import Window\n",
    "from pyspark.sql.types import *"
   ]
  },
  {
   "cell_type": "code",
   "execution_count": 4,
   "id": "85c65cb9",
   "metadata": {},
   "outputs": [],
   "source": [
    "JDBC_DW = {\n",
    "    'url':'jdbc:oracle:thin:@realestate_high?TNS_ADMIN=/home/big/study/db/Wallet_REALESTATE'\n",
    "    ,'props':{\n",
    "        'user':'dw_realestate'\n",
    "       ,'password':'123qwe!@#QWE'\n",
    "    }   \n",
    "}\n",
    "\n",
    "JDBC_DM = {\n",
    "    'url':'jdbc:oracle:thin:@realestate_high?TNS_ADMIN=/home/big/study/db/Wallet_REALESTATE'\n",
    "    ,'props':{\n",
    "        'user':'dm_realestate'\n",
    "       ,'password':'123qwe!@#QWE'\n",
    "    }   \n",
    "}"
   ]
  },
  {
   "cell_type": "code",
   "execution_count": 5,
   "id": "59c515e7",
   "metadata": {
    "scrolled": true
   },
   "outputs": [
    {
     "name": "stderr",
     "output_type": "stream",
     "text": [
      "[Stage 0:===========================================================(1 + 0) / 1]\r"
     ]
    },
    {
     "name": "stdout",
     "output_type": "stream",
     "text": [
      "+-------+-------------------+-------------+---------+----------------+---+\n",
      "|OSA_IDX|           RES_DATE|RES_REGN_CODE|BUYER_SEX|      BUYER_AGES|TOT|\n",
      "+-------+-------------------+-------------+---------+----------------+---+\n",
      "|      1|2022-09-23 00:00:00|        42000|     여자|       19세~29세|  7|\n",
      "|      2|2022-09-23 00:00:00|        42000|     여자|       30세~39세| 24|\n",
      "|      3|2022-09-23 00:00:00|        42000|     여자|       40세~49세| 30|\n",
      "|      4|2022-09-23 00:00:00|        42000|     여자|       50세~59세| 50|\n",
      "|      5|2022-09-23 00:00:00|        42000|     여자|       60세~69세| 56|\n",
      "|      6|2022-09-23 00:00:00|        42000|     여자|       70세 이상| 18|\n",
      "|      7|2022-09-23 00:00:00|        42000|     남자|0~18세(미성년자)|  4|\n",
      "|      8|2022-09-23 00:00:00|        42000|     남자|       19세~29세|  7|\n",
      "|      9|2022-09-23 00:00:00|        42000|     남자|       30세~39세| 27|\n",
      "|     10|2022-09-23 00:00:00|        42000|     남자|       40세~49세| 30|\n",
      "|     11|2022-09-23 00:00:00|        42000|     남자|       50세~59세| 59|\n",
      "|     12|2022-09-23 00:00:00|        42000|     남자|       60세~69세| 45|\n",
      "|     13|2022-09-23 00:00:00|        42000|     남자|       70세 이상| 11|\n",
      "|     14|2022-09-23 00:00:00|        41000|     여자|       19세~29세| 27|\n",
      "|     15|2022-09-23 00:00:00|        41000|     여자|       30세~39세| 91|\n",
      "|     16|2022-09-23 00:00:00|        41000|     여자|       40세~49세|133|\n",
      "|     17|2022-09-23 00:00:00|        41000|     여자|       50세~59세|139|\n",
      "|     18|2022-09-23 00:00:00|        41000|     여자|       60세~69세|105|\n",
      "|     19|2022-09-23 00:00:00|        41000|     여자|       70세 이상| 44|\n",
      "|     20|2022-09-23 00:00:00|        41000|     남자|       19세~29세| 41|\n",
      "+-------+-------------------+-------------+---------+----------------+---+\n",
      "only showing top 20 rows\n",
      "\n"
     ]
    }
   ],
   "source": [
    "sex_ages = spark.read.jdbc(url=JDBC_DW['url'], table='OWN_SEX_AGE', properties=JDBC_DW['props'])\n",
    "sex_ages.show()\n",
    "sex_ages.createOrReplaceTempView(\"sex_ages\")"
   ]
  },
  {
   "cell_type": "markdown",
   "id": "fc6cbc71",
   "metadata": {},
   "source": [
    "### ACC_SELL_BUY_AGES"
   ]
  },
  {
   "cell_type": "code",
   "execution_count": 8,
   "id": "a7ce6df2",
   "metadata": {},
   "outputs": [
    {
     "name": "stderr",
     "output_type": "stream",
     "text": [
      "                                                                                \r"
     ]
    },
    {
     "name": "stdout",
     "output_type": "stream",
     "text": [
      "+----------------+-------+--------+--------+\n",
      "|            AGES|BUY_TOT|BUY_RATE|ASBA_IDX|\n",
      "+----------------+-------+--------+--------+\n",
      "|       30세~39세|   1047|    19.4|       1|\n",
      "|0~18세(미성년자)|      5|     0.1|       2|\n",
      "|       50세~59세|   1402|    26.0|       3|\n",
      "|       40세~49세|   1308|    24.3|       4|\n",
      "|       60세~69세|   1003|    18.6|       5|\n",
      "|       70세 이상|    363|     6.7|       6|\n",
      "|       19세~29세|    257|     4.8|       7|\n",
      "+----------------+-------+--------+--------+\n",
      "\n"
     ]
    }
   ],
   "source": [
    "ages = spark.sql(\"\"\"select BUYER_AGES as AGES, sum(TOT) as BUY_TOT , round((sum(TOT)/(select sum(TOT) from sex_ages)*100),1) as BUY_RATE\n",
    "from sex_ages group by BUYER_AGES\"\"\")\n",
    "ages = ages.withColumn('ASBA_IDX', row_number().over(Window.orderBy(monotonically_increasing_id())))\n",
    "ages.show()"
   ]
  },
  {
   "cell_type": "code",
   "execution_count": 9,
   "id": "89d63160",
   "metadata": {},
   "outputs": [
    {
     "name": "stderr",
     "output_type": "stream",
     "text": [
      "                                                                                \r"
     ]
    }
   ],
   "source": [
    "ages.write.jdbc(url=JDBC_DM['url'], table='ACC_SELL_BUY_AGES', mode='append', properties=JDBC_DM['props'])"
   ]
  },
  {
   "cell_type": "markdown",
   "id": "b18d88b2",
   "metadata": {},
   "source": [
    "### SELL_BUY_AGES_YEAR"
   ]
  },
  {
   "cell_type": "code",
   "execution_count": 10,
   "id": "1f7db9d1",
   "metadata": {},
   "outputs": [
    {
     "name": "stderr",
     "output_type": "stream",
     "text": [
      "[Stage 21:>                                                         (0 + 1) / 1]\r"
     ]
    },
    {
     "name": "stdout",
     "output_type": "stream",
     "text": [
      "+----------------+-------+----+--------+\n",
      "|            AGES|BUY_TOT|YEAR|SBAY_IDX|\n",
      "+----------------+-------+----+--------+\n",
      "|       30세~39세|   1047|2022|       1|\n",
      "|0~18세(미성년자)|      5|2022|       2|\n",
      "|       50세~59세|   1402|2022|       3|\n",
      "|       40세~49세|   1308|2022|       4|\n",
      "|       60세~69세|   1003|2022|       5|\n",
      "|       70세 이상|    363|2022|       6|\n",
      "|       19세~29세|    257|2022|       7|\n",
      "+----------------+-------+----+--------+\n",
      "\n"
     ]
    },
    {
     "name": "stderr",
     "output_type": "stream",
     "text": [
      "\r",
      "                                                                                \r"
     ]
    }
   ],
   "source": [
    "ages_year = spark.sql(\"\"\"select BUYER_AGES as AGES, SUM(TOT) AS BUY_TOT, (select year(res_date) from sex_ages group by year(res_date)) as YEAR from sex_ages group by BUYER_AGES\"\"\")\n",
    "ages_year = ages_year.withColumn('SBAY_IDX', row_number().over(Window.orderBy(monotonically_increasing_id())))\n",
    "ages_year.show()"
   ]
  },
  {
   "cell_type": "code",
   "execution_count": 11,
   "id": "0af1148b",
   "metadata": {},
   "outputs": [
    {
     "name": "stderr",
     "output_type": "stream",
     "text": [
      "                                                                                \r"
     ]
    }
   ],
   "source": [
    "ages_year.write.jdbc(url=JDBC_DM['url'], table='SELL_BUY_AGES_YEAR', mode='append', properties=JDBC_DM['props'])"
   ]
  },
  {
   "cell_type": "markdown",
   "id": "49449310",
   "metadata": {},
   "source": [
    "### ACC_SELL_BUY_AGES_SIDO"
   ]
  },
  {
   "cell_type": "code",
   "execution_count": 12,
   "id": "24be3264",
   "metadata": {},
   "outputs": [
    {
     "name": "stderr",
     "output_type": "stream",
     "text": [
      "[Stage 38:>                                                         (0 + 1) / 1]\r"
     ]
    },
    {
     "name": "stdout",
     "output_type": "stream",
     "text": [
      "+----------------+-------+-----+---------+\n",
      "|            AGES|BUY_TOT| REGN|ASBAS_IDX|\n",
      "+----------------+-------+-----+---------+\n",
      "|0~18세(미성년자)|      1|11000|        1|\n",
      "|0~18세(미성년자)|      4|42000|        2|\n",
      "|       19세~29세|     14|42000|        3|\n",
      "|       19세~29세|      3|30000|        4|\n",
      "|       19세~29세|     68|41000|        5|\n",
      "|       19세~29세|      1|36110|        6|\n",
      "|       19세~29세|      5|29000|        7|\n",
      "|       19세~29세|     18|44000|        8|\n",
      "|       19세~29세|     37|11000|        9|\n",
      "|       19세~29세|      5|50000|       10|\n",
      "|       19세~29세|      6|45000|       11|\n",
      "|       19세~29세|     22|28000|       12|\n",
      "|       19세~29세|      4|31000|       13|\n",
      "|       19세~29세|     13|46000|       14|\n",
      "|       19세~29세|     15|47000|       15|\n",
      "|       19세~29세|      9|27000|       16|\n",
      "|       19세~29세|     13|43000|       17|\n",
      "|       19세~29세|     11|48000|       18|\n",
      "|       19세~29세|     13|26000|       19|\n",
      "|       30세~39세|     28|43000|       20|\n",
      "+----------------+-------+-----+---------+\n",
      "only showing top 20 rows\n",
      "\n"
     ]
    },
    {
     "name": "stderr",
     "output_type": "stream",
     "text": [
      "\r",
      "                                                                                \r"
     ]
    }
   ],
   "source": [
    "ages_sido = spark.sql(\"\"\"select BUYER_AGES as AGES, sum(TOT) as BUY_TOT , RES_REGN_CODE as REGN\n",
    "from sex_ages group by BUYER_AGES, RES_REGN_CODE order by BUYER_AGES\"\"\")\n",
    "ages_sido = ages_sido.withColumn('ASBAS_IDX', row_number().over(Window.orderBy(monotonically_increasing_id())))\n",
    "ages_sido.show()"
   ]
  },
  {
   "cell_type": "code",
   "execution_count": 13,
   "id": "7bb586c6",
   "metadata": {},
   "outputs": [
    {
     "name": "stderr",
     "output_type": "stream",
     "text": [
      "                                                                                \r"
     ]
    }
   ],
   "source": [
    "ages_sido.write.jdbc(url=JDBC_DM['url'], table='ACC_SELL_BUY_AGES_SIDO', mode='append', properties=JDBC_DM['props'])"
   ]
  },
  {
   "cell_type": "markdown",
   "id": "4e8e38da",
   "metadata": {},
   "source": [
    "### ACC_SELL_BUY_SEX"
   ]
  },
  {
   "cell_type": "code",
   "execution_count": 18,
   "id": "f8bb2a95",
   "metadata": {},
   "outputs": [
    {
     "name": "stderr",
     "output_type": "stream",
     "text": [
      "[Stage 68:>                                                         (0 + 1) / 1]\r"
     ]
    },
    {
     "name": "stdout",
     "output_type": "stream",
     "text": [
      "+----+-------+--------+--------+\n",
      "| SEX|BUY_TOT|BUY_RATE|ASBS_IDX|\n",
      "+----+-------+--------+--------+\n",
      "|여자|   2407|    44.7|       1|\n",
      "|남자|   2978|    55.3|       2|\n",
      "+----+-------+--------+--------+\n",
      "\n"
     ]
    },
    {
     "name": "stderr",
     "output_type": "stream",
     "text": [
      "\r",
      "                                                                                \r"
     ]
    }
   ],
   "source": [
    "sex = spark.sql(\"\"\"select BUYER_SEX as SEX, sum(TOT) as BUY_TOT , round((sum(TOT)/(select sum(TOT) from sex_ages)*100),1) as BUY_RATE\n",
    "from sex_ages group by BUYER_SEX\"\"\")\n",
    "sex = sex.withColumn('ASBS_IDX', row_number().over(Window.orderBy(monotonically_increasing_id())))\n",
    "sex.show()"
   ]
  },
  {
   "cell_type": "code",
   "execution_count": 20,
   "id": "144aacd2",
   "metadata": {},
   "outputs": [
    {
     "name": "stderr",
     "output_type": "stream",
     "text": [
      "                                                                                \r"
     ]
    }
   ],
   "source": [
    "sex.write.jdbc(url=JDBC_DM['url'], table='ACC_SELL_BUY_SEX', mode='append', properties=JDBC_DM['props'])"
   ]
  },
  {
   "cell_type": "markdown",
   "id": "ed2457b7",
   "metadata": {},
   "source": [
    "### SELL_BUY_SEX_YEAR"
   ]
  },
  {
   "cell_type": "code",
   "execution_count": 21,
   "id": "05eed49d",
   "metadata": {},
   "outputs": [
    {
     "name": "stderr",
     "output_type": "stream",
     "text": [
      "[Stage 83:>                                                         (0 + 1) / 1]\r"
     ]
    },
    {
     "name": "stdout",
     "output_type": "stream",
     "text": [
      "+----+-------+----+--------+\n",
      "| SEX|BUY_TOT|YEAR|SBSY_IDX|\n",
      "+----+-------+----+--------+\n",
      "|여자|   2407|2022|       1|\n",
      "|남자|   2978|2022|       2|\n",
      "+----+-------+----+--------+\n",
      "\n"
     ]
    },
    {
     "name": "stderr",
     "output_type": "stream",
     "text": [
      "\r",
      "                                                                                \r"
     ]
    }
   ],
   "source": [
    "sex_year = spark.sql(\"\"\"select BUYER_SEX as SEX, SUM(TOT) AS BUY_TOT, (select year(res_date) from sex_ages group by year(res_date)) as YEAR from sex_ages group by BUYER_SEX\"\"\")\n",
    "sex_year = sex_year.withColumn('SBSY_IDX', row_number().over(Window.orderBy(monotonically_increasing_id())))\n",
    "sex_year.show()"
   ]
  },
  {
   "cell_type": "code",
   "execution_count": 23,
   "id": "5db8e8f4",
   "metadata": {},
   "outputs": [
    {
     "name": "stderr",
     "output_type": "stream",
     "text": [
      "                                                                                \r"
     ]
    }
   ],
   "source": [
    "sex_year.write.jdbc(url=JDBC_DM['url'], table='SELL_BUY_SEX_YEAR', mode='append', properties=JDBC_DM['props'])"
   ]
  },
  {
   "cell_type": "markdown",
   "id": "a4655cc1",
   "metadata": {},
   "source": [
    "### ACC_SELL_BUY_SEX_SIDO"
   ]
  },
  {
   "cell_type": "code",
   "execution_count": 27,
   "id": "558522b5",
   "metadata": {},
   "outputs": [
    {
     "name": "stderr",
     "output_type": "stream",
     "text": [
      "                                                                                \r"
     ]
    },
    {
     "name": "stdout",
     "output_type": "stream",
     "text": [
      "+----+-------+-----+\n",
      "| SEX|BUY_TOT| REGN|\n",
      "+----+-------+-----+\n",
      "|남자|     29|30000|\n",
      "|남자|    664|41000|\n",
      "|남자|    155|45000|\n",
      "|남자|    193|28000|\n",
      "|남자|    183|42000|\n",
      "|남자|    127|26000|\n",
      "|남자|     16|36110|\n",
      "|남자|     23|31000|\n",
      "|남자|    259|46000|\n",
      "|남자|    268|48000|\n",
      "|남자|    142|43000|\n",
      "|남자|    239|44000|\n",
      "|남자|     41|29000|\n",
      "|남자|    232|11000|\n",
      "|남자|    251|47000|\n",
      "|남자|     88|27000|\n",
      "|남자|     68|50000|\n",
      "|여자|    185|42000|\n",
      "|여자|     37|29000|\n",
      "|여자|    186|48000|\n",
      "+----+-------+-----+\n",
      "only showing top 20 rows\n",
      "\n"
     ]
    }
   ],
   "source": [
    "sex_sido = spark.sql(\"\"\"select BUYER_SEX as SEX, sum(TOT) as BUY_TOT , RES_REGN_CODE as REGN\n",
    "from sex_ages group by BUYER_SEX, RES_REGN_CODE order by sex\"\"\")\n",
    "sex_sido.show()"
   ]
  },
  {
   "cell_type": "code",
   "execution_count": 28,
   "id": "4cb6f75a",
   "metadata": {},
   "outputs": [
    {
     "name": "stderr",
     "output_type": "stream",
     "text": [
      "                                                                                \r"
     ]
    }
   ],
   "source": [
    "sex_sido.write.jdbc(url=JDBC_DM['url'], table='ACC_SELL_BUY_SEX_SIDO', mode='overwrite', properties=JDBC_DM['props'])"
   ]
  }
 ],
 "metadata": {
  "kernelspec": {
   "display_name": "Python 3 (ipykernel)",
   "language": "python",
   "name": "python3"
  },
  "language_info": {
   "codemirror_mode": {
    "name": "ipython",
    "version": 3
   },
   "file_extension": ".py",
   "mimetype": "text/x-python",
   "name": "python",
   "nbconvert_exporter": "python",
   "pygments_lexer": "ipython3",
   "version": "3.8.10"
  }
 },
 "nbformat": 4,
 "nbformat_minor": 5
}
